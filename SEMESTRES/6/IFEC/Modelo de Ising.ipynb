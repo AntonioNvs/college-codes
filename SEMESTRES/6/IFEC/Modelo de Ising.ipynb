{
 "cells": [
  {
   "cell_type": "markdown",
   "id": "7c971bf9-3791-4611-84cf-d227c4970f9b",
   "metadata": {},
   "source": [
    "## Simulações de Monte Carlo do Modelo de Ising\n",
    "\n",
    "**Nome:** Antônio Caetano Neves Neto\n",
    "\n",
    "**Matrícula:** 2022043698"
   ]
  },
  {
   "cell_type": "code",
   "execution_count": null,
   "id": "671615f9-d77a-4afd-871a-81bd7a6eb0e2",
   "metadata": {},
   "outputs": [],
   "source": [
    "import numpy as np\n",
    "import "
   ]
  }
 ],
 "metadata": {
  "kernelspec": {
   "display_name": "Python 3 (ipykernel)",
   "language": "python",
   "name": "python3"
  },
  "language_info": {
   "codemirror_mode": {
    "name": "ipython",
    "version": 3
   },
   "file_extension": ".py",
   "mimetype": "text/x-python",
   "name": "python",
   "nbconvert_exporter": "python",
   "pygments_lexer": "ipython3",
   "version": "3.11.0"
  }
 },
 "nbformat": 4,
 "nbformat_minor": 5
}
