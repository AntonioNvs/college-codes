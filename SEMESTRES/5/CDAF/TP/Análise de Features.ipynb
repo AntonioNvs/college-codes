{
 "cells": [
  {
   "cell_type": "markdown",
   "id": "34fc7c6e-ca6c-408a-bcae-fa418366d0f2",
   "metadata": {},
   "source": [
    "# Análise de Features e dos Dados em si"
   ]
  },
  {
   "cell_type": "markdown",
   "id": "5cfc663f-07af-4df9-b557-2b80d98cf6d8",
   "metadata": {},
   "source": [
    "## Importação e Caracterização"
   ]
  },
  {
   "cell_type": "code",
   "execution_count": 84,
   "id": "4232a73b-4f92-4e24-ac23-0b984744d056",
   "metadata": {},
   "outputs": [],
   "source": [
    "import numpy as np\n",
    "import pandas as pd\n",
    "import matplotlib.pyplot as plt"
   ]
  },
  {
   "cell_type": "code",
   "execution_count": 4,
   "id": "da32b6dc-5f38-4cb0-9c71-ae0109fedc72",
   "metadata": {},
   "outputs": [
    {
     "data": {
      "text/html": [
       "<div>\n",
       "<style scoped>\n",
       "    .dataframe tbody tr th:only-of-type {\n",
       "        vertical-align: middle;\n",
       "    }\n",
       "\n",
       "    .dataframe tbody tr th {\n",
       "        vertical-align: top;\n",
       "    }\n",
       "\n",
       "    .dataframe thead th {\n",
       "        text-align: right;\n",
       "    }\n",
       "</style>\n",
       "<table border=\"1\" class=\"dataframe\">\n",
       "  <thead>\n",
       "    <tr style=\"text-align: right;\">\n",
       "      <th></th>\n",
       "      <th>game_id</th>\n",
       "      <th>game_event_id</th>\n",
       "      <th>possession_event_type</th>\n",
       "      <th>formatted_game_clock</th>\n",
       "      <th>start_time</th>\n",
       "      <th>end_time</th>\n",
       "      <th>duration</th>\n",
       "      <th>inserted_at</th>\n",
       "      <th>updated_at</th>\n",
       "      <th>start_frame</th>\n",
       "      <th>...</th>\n",
       "      <th>21_vy</th>\n",
       "      <th>21_vtot</th>\n",
       "      <th>21_ax</th>\n",
       "      <th>21_ay</th>\n",
       "      <th>21_atot</th>\n",
       "      <th>home_ball</th>\n",
       "      <th>ball_visibility</th>\n",
       "      <th>ball_x</th>\n",
       "      <th>ball_y</th>\n",
       "      <th>ball_z</th>\n",
       "    </tr>\n",
       "  </thead>\n",
       "  <tbody>\n",
       "    <tr>\n",
       "      <th>0</th>\n",
       "      <td>4438</td>\n",
       "      <td>4435777</td>\n",
       "      <td>PA</td>\n",
       "      <td>00:00</td>\n",
       "      <td>148.300</td>\n",
       "      <td>148.300</td>\n",
       "      <td>0.0</td>\n",
       "      <td>2022-08-06 17:07:20</td>\n",
       "      <td>2022-08-07 01:31:28</td>\n",
       "      <td>4389</td>\n",
       "      <td>...</td>\n",
       "      <td>-0.75</td>\n",
       "      <td>1.060660</td>\n",
       "      <td>0.000000e+00</td>\n",
       "      <td>0.000000e+00</td>\n",
       "      <td>0.000000e+00</td>\n",
       "      <td>0.0</td>\n",
       "      <td>ESTIMATED</td>\n",
       "      <td>-2.135</td>\n",
       "      <td>1.725</td>\n",
       "      <td>0.30</td>\n",
       "    </tr>\n",
       "    <tr>\n",
       "      <th>1</th>\n",
       "      <td>4438</td>\n",
       "      <td>4435792</td>\n",
       "      <td>PA</td>\n",
       "      <td>00:02</td>\n",
       "      <td>151.233</td>\n",
       "      <td>151.233</td>\n",
       "      <td>0.0</td>\n",
       "      <td>2022-08-06 17:08:25</td>\n",
       "      <td>2022-08-07 01:31:28</td>\n",
       "      <td>4477</td>\n",
       "      <td>...</td>\n",
       "      <td>-0.33</td>\n",
       "      <td>0.632851</td>\n",
       "      <td>-1.598721e-12</td>\n",
       "      <td>-9.000000e-01</td>\n",
       "      <td>9.000000e-01</td>\n",
       "      <td>0.0</td>\n",
       "      <td>VISIBLE</td>\n",
       "      <td>-21.122</td>\n",
       "      <td>3.604</td>\n",
       "      <td>0.00</td>\n",
       "    </tr>\n",
       "    <tr>\n",
       "      <th>2</th>\n",
       "      <td>4438</td>\n",
       "      <td>4435795</td>\n",
       "      <td>PA</td>\n",
       "      <td>00:07</td>\n",
       "      <td>155.667</td>\n",
       "      <td>155.667</td>\n",
       "      <td>0.0</td>\n",
       "      <td>2022-08-06 17:08:39</td>\n",
       "      <td>2022-08-07 01:31:28</td>\n",
       "      <td>4610</td>\n",
       "      <td>...</td>\n",
       "      <td>-1.92</td>\n",
       "      <td>3.003748</td>\n",
       "      <td>1.800000e+00</td>\n",
       "      <td>0.000000e+00</td>\n",
       "      <td>1.800000e+00</td>\n",
       "      <td>0.0</td>\n",
       "      <td>VISIBLE</td>\n",
       "      <td>-8.428</td>\n",
       "      <td>-27.775</td>\n",
       "      <td>0.58</td>\n",
       "    </tr>\n",
       "    <tr>\n",
       "      <th>3</th>\n",
       "      <td>4438</td>\n",
       "      <td>4435805</td>\n",
       "      <td>PA</td>\n",
       "      <td>00:19</td>\n",
       "      <td>167.633</td>\n",
       "      <td>167.633</td>\n",
       "      <td>0.0</td>\n",
       "      <td>2022-08-06 17:09:04</td>\n",
       "      <td>2022-08-07 01:31:28</td>\n",
       "      <td>4969</td>\n",
       "      <td>...</td>\n",
       "      <td>0.39</td>\n",
       "      <td>0.926121</td>\n",
       "      <td>1.800000e+00</td>\n",
       "      <td>-7.993606e-13</td>\n",
       "      <td>1.800000e+00</td>\n",
       "      <td>1.0</td>\n",
       "      <td>ESTIMATED</td>\n",
       "      <td>48.219</td>\n",
       "      <td>1.006</td>\n",
       "      <td>0.82</td>\n",
       "    </tr>\n",
       "    <tr>\n",
       "      <th>4</th>\n",
       "      <td>4438</td>\n",
       "      <td>4435817</td>\n",
       "      <td>PA</td>\n",
       "      <td>00:21</td>\n",
       "      <td>170.033</td>\n",
       "      <td>170.033</td>\n",
       "      <td>0.0</td>\n",
       "      <td>2022-08-06 17:09:34</td>\n",
       "      <td>2022-08-07 01:31:28</td>\n",
       "      <td>5041</td>\n",
       "      <td>...</td>\n",
       "      <td>0.45</td>\n",
       "      <td>1.114854</td>\n",
       "      <td>1.598721e-12</td>\n",
       "      <td>0.000000e+00</td>\n",
       "      <td>1.598721e-12</td>\n",
       "      <td>1.0</td>\n",
       "      <td>VISIBLE</td>\n",
       "      <td>46.345</td>\n",
       "      <td>-12.923</td>\n",
       "      <td>0.00</td>\n",
       "    </tr>\n",
       "  </tbody>\n",
       "</table>\n",
       "<p>5 rows × 274 columns</p>\n",
       "</div>"
      ],
      "text/plain": [
       "   game_id  game_event_id possession_event_type formatted_game_clock  \\\n",
       "0     4438        4435777                    PA                00:00   \n",
       "1     4438        4435792                    PA                00:02   \n",
       "2     4438        4435795                    PA                00:07   \n",
       "3     4438        4435805                    PA                00:19   \n",
       "4     4438        4435817                    PA                00:21   \n",
       "\n",
       "   start_time  end_time  duration          inserted_at           updated_at  \\\n",
       "0     148.300   148.300       0.0  2022-08-06 17:07:20  2022-08-07 01:31:28   \n",
       "1     151.233   151.233       0.0  2022-08-06 17:08:25  2022-08-07 01:31:28   \n",
       "2     155.667   155.667       0.0  2022-08-06 17:08:39  2022-08-07 01:31:28   \n",
       "3     167.633   167.633       0.0  2022-08-06 17:09:04  2022-08-07 01:31:28   \n",
       "4     170.033   170.033       0.0  2022-08-06 17:09:34  2022-08-07 01:31:28   \n",
       "\n",
       "   start_frame  ...  21_vy   21_vtot         21_ax         21_ay  \\\n",
       "0         4389  ...  -0.75  1.060660  0.000000e+00  0.000000e+00   \n",
       "1         4477  ...  -0.33  0.632851 -1.598721e-12 -9.000000e-01   \n",
       "2         4610  ...  -1.92  3.003748  1.800000e+00  0.000000e+00   \n",
       "3         4969  ...   0.39  0.926121  1.800000e+00 -7.993606e-13   \n",
       "4         5041  ...   0.45  1.114854  1.598721e-12  0.000000e+00   \n",
       "\n",
       "        21_atot home_ball ball_visibility  ball_x  ball_y  ball_z  \n",
       "0  0.000000e+00       0.0       ESTIMATED  -2.135   1.725    0.30  \n",
       "1  9.000000e-01       0.0         VISIBLE -21.122   3.604    0.00  \n",
       "2  1.800000e+00       0.0         VISIBLE  -8.428 -27.775    0.58  \n",
       "3  1.800000e+00       1.0       ESTIMATED  48.219   1.006    0.82  \n",
       "4  1.598721e-12       1.0         VISIBLE  46.345 -12.923    0.00  \n",
       "\n",
       "[5 rows x 274 columns]"
      ]
     },
     "execution_count": 4,
     "metadata": {},
     "output_type": "execute_result"
    }
   ],
   "source": [
    "df = pd.read_csv(\"interception_events.csv\", index_col=0)\n",
    "df.head()"
   ]
  },
  {
   "cell_type": "code",
   "execution_count": 14,
   "id": "180d1636-2e78-475a-ab8b-5c66f1ee71d5",
   "metadata": {},
   "outputs": [
    {
     "name": "stdout",
     "output_type": "stream",
     "text": [
      "Número de jogos contemplados: 23\n",
      "Número de passes: 19646\n",
      "Número de interceptações: 2633\n",
      "Número de passes completos: 16225\n",
      "Razão de interceptações por passe completo: 0.1622804314329738\n"
     ]
    }
   ],
   "source": [
    "print(f\"Número de jogos contemplados: {len(df['game_id'].unique())}\")\n",
    "print(f\"Número de passes: {len(df)}\")\n",
    "print(f\"Número de interceptações: {df['pass_outcome_type'].value_counts()['D']}\")\n",
    "print(f\"Número de passes completos: {df['pass_outcome_type'].value_counts()['C']}\")\n",
    "print(f\"Razão de interceptações por passe completo: {df['pass_outcome_type'].value_counts()['D'] / df['pass_outcome_type'].value_counts()['C']}\")"
   ]
  },
  {
   "cell_type": "code",
   "execution_count": 29,
   "id": "997306cb-2463-4077-8217-8bc6fbb19ff2",
   "metadata": {},
   "outputs": [],
   "source": [
    "# pressure_type não é dado normalmente, então excluímos - voronoi da para nos essa info\n",
    "pass_features = [\"pass_body_type\", \"pass_high_point_type\", \"pass_type\", \"pressure_type\", \"passer_preferred_foot_player\", \"target_player\"]"
   ]
  },
  {
   "cell_type": "code",
   "execution_count": 30,
   "id": "dee46ff0-19ed-4042-8035-0a33280672ba",
   "metadata": {},
   "outputs": [
    {
     "name": "stdout",
     "output_type": "stream",
     "text": [
      "Informações nulas no DF\n",
      "pass_body_type: 0\n",
      "pass_high_point_type: 0\n",
      "pass_type: 1\n",
      "pressure_type: 15888\n",
      "passer_preferred_foot_player: 1491\n",
      "target_player: 7\n"
     ]
    }
   ],
   "source": [
    "print(\"Informações nulas no DF\")\n",
    "for f in pass_features:\n",
    "    print(f + \": \" + str(sum(df[f].isna())))"
   ]
  },
  {
   "cell_type": "code",
   "execution_count": 26,
   "id": "17528cf6-fb7b-40b6-89f0-e029ff399f24",
   "metadata": {},
   "outputs": [
    {
     "data": {
      "text/plain": [
       "pass_body_type\n",
       "R           961\n",
       "L           276\n",
       "TWOHANDS    101\n",
       "HE           92\n",
       "VM           34\n",
       "RB           14\n",
       "CH            7\n",
       "RH            4\n",
       "RK            1\n",
       "RT            1\n",
       "Name: count, dtype: int64"
      ]
     },
     "execution_count": 26,
     "metadata": {},
     "output_type": "execute_result"
    }
   ],
   "source": [
    "# Quando não tem o pé preferido do jogador, foi de cabeça ou outra parte do corpo?\n",
    "# Não necessariamente, então atributo fraco para a gente\n",
    "df[df[\"passer_preferred_foot_player\"].isna()][\"pass_body_type\"].value_counts()"
   ]
  },
  {
   "cell_type": "code",
   "execution_count": 40,
   "id": "376e53a2-ec8c-4088-80d4-d4abcb78a11e",
   "metadata": {},
   "outputs": [
    {
     "name": "stdout",
     "output_type": "stream",
     "text": [
      "Instâncias agora: 19638\n",
      "Instâncias antes: 19646\n"
     ]
    }
   ],
   "source": [
    "not_na_features = [\"pass_outcome_type\", \"pass_body_type\", \"pass_high_point_type\", \"pass_type\", \"target_player\"]\n",
    "\n",
    "df_sel = df.dropna(subset=not_na_features)\n",
    "\n",
    "print(f\"Instâncias agora: {len(df_sel)}\")\n",
    "print(f\"Instâncias antes: {len(df)}\")"
   ]
  },
  {
   "cell_type": "markdown",
   "id": "8faa39e3-29cb-40c5-9fff-8fbccad2441a",
   "metadata": {},
   "source": [
    "## Análise"
   ]
  },
  {
   "cell_type": "code",
   "execution_count": 42,
   "id": "d03f13eb-5a38-43ed-82ed-9b182674bad1",
   "metadata": {},
   "outputs": [],
   "source": [
    "pass_features = ['pass_body_type', 'pass_high_point_type', 'pass_type']"
   ]
  },
  {
   "cell_type": "code",
   "execution_count": 86,
   "id": "388ab6d5-b229-438c-8da7-f5bb188d5bdf",
   "metadata": {},
   "outputs": [
    {
     "data": {
      "image/png": "[encoded data removed]",
      "text/plain": [
       "<Figure size 1000x1300 with 3 Axes>"
      ]
     },
     "metadata": {},
     "output_type": "display_data"
    }
   ],
   "source": [
    "fig, ax = plt.subplots(3, 1, figsize=(10, 13))\n",
    "for i, f in enumerate(pass_features):\n",
    "    interception_filter = df_sel[\"pass_outcome_type\"] == \"D\"\n",
    "    \n",
    "    counts0 = df_sel.loc[~interception_filter, f].value_counts()\n",
    "    counts1 = df_sel.loc[interception_filter, f].value_counts()\n",
    "    \n",
    "    counts0 /= counts0.sum()\n",
    "    counts1 /= counts1.sum()\n",
    "    \n",
    "    counts1 = counts1[counts1.values > 0.001]\n",
    "    \n",
    "    counts0 = counts0[counts1.index]\n",
    "    \n",
    "    idx = np.arange(len(counts0))\n",
    "    \n",
    "    width = 0.3\n",
    "    \n",
    "    ax[i].bar(idx, counts0.values, width, label=\"Completo\")\n",
    "    ax[i].bar(idx+width, counts1.values, width, label=\"Interceptado\")\n",
    "    \n",
    "    ax[i].set_ylabel('Frequência')\n",
    "    ax[i].set_title(f'Comparação de {f} com não/sim interceptado')\n",
    "    ax[i].set_xticks(idx + width / 2)\n",
    "    ax[i].set_xticklabels(counts1.index)\n",
    "    ax[i].legend()\n",
    "plt.show()"
   ]
  },
  {
   "cell_type": "markdown",
   "id": "b8d65b4b-8516-42d1-85b7-865fb0aaa82d",
   "metadata": {},
   "source": [
    "## BoxPlot do Voronoi"
   ]
  },
  {
   "cell_type": "code",
   "execution_count": null,
   "id": "1daa4ce7-d2d1-47bf-ac04-f92968fce34c",
   "metadata": {},
   "outputs": [],
   "source": []
  },
  {
   "cell_type": "markdown",
   "id": "c9cb0a75-8511-45dd-a402-82bee2d730de",
   "metadata": {},
   "source": [
    "## Classificador Dummy por posição\n",
    "\n",
    "Objetivo aqui é construir uma matriz de bins que determina se o transmissor está no quadrante i e o receptor no quadrante j, então calcule a chance de interceptação"
   ]
  },
  {
   "cell_type": "code",
   "execution_count": 149,
   "id": "ccfb3d84-653e-4d88-aa3e-29c1fce113e2",
   "metadata": {},
   "outputs": [],
   "source": [
    "# Selecionando qual jogador deu o passe (posição da bola man) e qual vai receber\n",
    "\n",
    "players_id = [f\"{i}_player_id\" for i in range(22)]\n",
    "\n",
    "def return_position_of_receptor_and_ball(row):\n",
    "    for c in players_id:\n",
    "        if row[c] == row[\"target_player\"]:\n",
    "            i = c.split(\"_\")[0]\n",
    "            return (row[\"pass_outcome_type\"] == 'D', row[\"ball_x\"], row[\"ball_y\"], row[f\"{i}_x\"], row[f\"{i}_y\"]) \n",
    "    return np.nan\n",
    "\n",
    "\n",
    "receps = [return_position_of_receptor_and_ball(row) for i, row in df_sel.iterrows() if not np.isnan(return_position_of_receptor_and_ball(row)).any()]"
   ]
  },
  {
   "cell_type": "code",
   "execution_count": 150,
   "id": "032a4692-a91a-4ddd-a160-53bb63fe2be2",
   "metadata": {},
   "outputs": [],
   "source": [
    "receps = np.array(receps)\n",
    "label, ball_x, ball_y, recep_x, recep_y = receps[:, 0], receps[:, 1], receps[:, 2], receps[:, 3], receps[:, 4]\n",
    "\n",
    "ball_x += 52.5\n",
    "recep_x += 52.5\n",
    "ball_y += 34\n",
    "recep_y += 34\n",
    "\n",
    "N = 30"
   ]
  },
  {
   "cell_type": "code",
   "execution_count": 163,
   "id": "604e8091-e412-47d0-83a6-5ed1b1cf4797",
   "metadata": {},
   "outputs": [],
   "source": [
    "def return_grid_position(x, y):\n",
    "    interval_x = 105 / N\n",
    "    interval_y = 68 / N\n",
    "\n",
    "    return int(min(N-1, max(x // interval_x, 0))), int(min(N-1, max(y // interval_y, 0)))"
   ]
  },
  {
   "cell_type": "code",
   "execution_count": 164,
   "id": "a2941c59-612e-45b2-ae3f-e4f6693cff1e",
   "metadata": {},
   "outputs": [],
   "source": [
    "interceps = np.zeros((N*N, N*N))\n",
    "not_interceps = np.zeros((N*N, N*N))\n",
    "\n",
    "for i in range(len(label)):\n",
    "    bx, by = return_grid_position(ball_x[i], ball_y[i])\n",
    "    rx, ry = return_grid_position(recep_x[i], recep_y[i])\n",
    "    \n",
    "    if label[i]:\n",
    "        interceps[bx*N + by, rx*N + ry] += 1\n",
    "    else:\n",
    "        not_interceps[bx*N + by, rx*N + ry] += 1"
   ]
  },
  {
   "cell_type": "code",
   "execution_count": 171,
   "id": "b982d447-681e-4d2a-906c-cd11284c96ed",
   "metadata": {},
   "outputs": [
    {
     "name": "stderr",
     "output_type": "stream",
     "text": [
      "C:\\Users\\tonim\\AppData\\Local\\Temp\\ipykernel_10568\\2083698203.py:1: RuntimeWarning: invalid value encountered in divide\n",
      "  m = interceps / (interceps + not_interceps)\n"
     ]
    }
   ],
   "source": [
    "m = interceps / (interceps + not_interceps)"
   ]
  }
 ],
 "metadata": {
  "kernelspec": {
   "display_name": "Python 3 (ipykernel)",
   "language": "python",
   "name": "python3"
  },
  "language_info": {
   "codemirror_mode": {
    "name": "ipython",
    "version": 3
   },
   "file_extension": ".py",
   "mimetype": "text/x-python",
   "name": "python",
   "nbconvert_exporter": "python",
   "pygments_lexer": "ipython3",
   "version": "3.11.0"
  }
 },
 "nbformat": 4,
 "nbformat_minor": 5
}
