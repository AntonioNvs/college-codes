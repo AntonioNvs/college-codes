{
 "cells": [
  {
   "cell_type": "code",
   "execution_count": 1,
   "id": "cfd2fd79-3c86-4ffd-b265-1f55b5a99bb2",
   "metadata": {},
   "outputs": [],
   "source": [
    "import pandas as pd\n",
    "import numpy as np\n",
    "import matplotlib.pyplot as plt\n",
    "\n",
    "df = pd.read_csv(\"../interception_events_new.csv\", index_col=[0])\n",
    "\n",
    "df_sel = df.dropna(subset=[\"ball_x\", \"ball_y\"] + [f\"{i}_x\" for i in range(22)])"
   ]
  },
  {
   "cell_type": "code",
   "execution_count": 3,
   "id": "9f31154d-cf8a-4259-9f06-97f10a9f0ae9",
   "metadata": {},
   "outputs": [
    {
     "name": "stderr",
     "output_type": "stream",
     "text": [
      "C:\\Users\\tonim\\AppData\\Local\\Temp\\ipykernel_12460\\2255746938.py:17: SettingWithCopyWarning: \n",
      "A value is trying to be set on a copy of a slice from a DataFrame.\n",
      "Try using .loc[row_indexer,col_indexer] = value instead\n",
      "\n",
      "See the caveats in the documentation: https://pandas.pydata.org/pandas-docs/stable/user_guide/indexing.html#returning-a-view-versus-a-copy\n",
      "  df_sel.loc[:, \"receptor_x\"] = np.array(recep_x)\n",
      "C:\\Users\\tonim\\AppData\\Local\\Temp\\ipykernel_12460\\2255746938.py:18: SettingWithCopyWarning: \n",
      "A value is trying to be set on a copy of a slice from a DataFrame.\n",
      "Try using .loc[row_indexer,col_indexer] = value instead\n",
      "\n",
      "See the caveats in the documentation: https://pandas.pydata.org/pandas-docs/stable/user_guide/indexing.html#returning-a-view-versus-a-copy\n",
      "  df_sel.loc[:, \"receptor_y\"] = np.array(recep_y)\n"
     ]
    }
   ],
   "source": [
    "recep_x = []\n",
    "recep_y = []\n",
    "\n",
    "players_id = [f\"{i}_player_id\" for i in range(22)]\n",
    "\n",
    "for i, row in df_sel.iterrows():\n",
    "    for c in players_id:\n",
    "        if row[c] == row[\"target_player\"]:\n",
    "            i = c.split(\"_\")[0]\n",
    "            recep_x.append(row[f\"{i}_x\"])\n",
    "            recep_y.append(row[f\"{i}_y\"])\n",
    "            break\n",
    "    else:\n",
    "        recep_x.append(np.nan)\n",
    "        recep_y.append(np.nan)\n",
    "\n",
    "df_sel.loc[:, \"receptor_x\"] = np.array(recep_x)\n",
    "df_sel.loc[:, \"receptor_y\"] = np.array(recep_y)\n",
    "\n",
    "df_sel = df_sel.dropna(subset=[\"receptor_x\"]).reset_index(drop=True)"
   ]
  },
  {
   "cell_type": "markdown",
   "id": "e2b88985-546f-48a1-9936-7d17fbeacd4a",
   "metadata": {},
   "source": [
    "## Funções"
   ]
  },
  {
   "cell_type": "code",
   "execution_count": 22,
   "id": "873b6881-fc06-43ce-b4c7-9f2537235d41",
   "metadata": {},
   "outputs": [],
   "source": [
    "class player(object):\n",
    "    \"\"\"\n",
    "    player() class\n",
    "    \n",
    "    Class defining a player object that stores position, velocity, time-to-intercept and pitch control contributions for a player\n",
    "    \n",
    "    __init__ Parameters\n",
    "    -----------\n",
    "    pid: id (jersey number) of player\n",
    "    team: row of tracking data for team\n",
    "    teamname: team name \"Home\" or \"Away\"\n",
    "    params: Dictionary of model parameters (default model parameters can be generated using default_model_params() )\n",
    "    \n",
    "\n",
    "    methods include:\n",
    "    -----------\n",
    "    simple_time_to_intercept(r_final): time take for player to get to target position (r_final) given current position\n",
    "    probability_intercept_ball(T): probability player will have controlled ball at time T given their expected time_to_intercept\n",
    "    \n",
    "    \"\"\"\n",
    "    # player object holds position, velocity, time-to-intercept and pitch control contributions for each player\n",
    "    def __init__(self,pid,team,teamname,params,GKid):\n",
    "        self.id = pid\n",
    "        self.is_gk = self.id == GKid\n",
    "        self.teamname = teamname\n",
    "        self.playername = pid\n",
    "        self.vmax = params['max_player_speed'] # player max speed in m/s. Could be individualised\n",
    "        self.reaction_time = params['reaction_time'] # player reaction time in 's'. Could be individualised\n",
    "        self.tti_sigma = params['tti_sigma'] # standard deviation of sigmoid function (see Eq 4 in Spearman, 2018)\n",
    "        self.lambda_att = params['lambda_att'] # standard deviation of sigmoid function (see Eq 4 in Spearman, 2018)\n",
    "        self.lambda_def = params['lambda_gk'] if self.is_gk else params['lambda_def'] # factor of 3 ensures that anything near the GK is likely to be claimed by the GK\n",
    "        self.get_position(team)\n",
    "        self.get_velocity(team)\n",
    "        self.PPCF = 0. # initialise this for later\n",
    "        \n",
    "    def get_position(self,team):\n",
    "        self.position = np.array( [ team[self.playername+'_x'], team[self.playername+'_y'] ] )\n",
    "        self.inframe = not np.any( np.isnan(self.position) )\n",
    "        \n",
    "    def get_velocity(self,team):\n",
    "        self.velocity = np.array( [ team[self.playername+'_vx'], team[self.playername+'_vy'] ] )\n",
    "        if np.any( np.isnan(self.velocity) ):\n",
    "            self.velocity = np.array([0.,0.])\n",
    "    \n",
    "    def simple_time_to_intercept(self, r_final):\n",
    "        self.PPCF = 0. # initialise this for later\n",
    "        # Time to intercept assumes that the player continues moving at current velocity for 'reaction_time' seconds\n",
    "        # and then runs at full speed to the target position.\n",
    "        r_reaction = self.position + self.velocity*self.reaction_time\n",
    "        self.time_to_intercept = self.reaction_time + np.linalg.norm(r_final-r_reaction)/self.vmax\n",
    "        return self.time_to_intercept\n",
    "\n",
    "    def probability_intercept_ball(self,T):\n",
    "        # probability of a player arriving at target location at time 'T' given their expected time_to_intercept (time of arrival), as described in Spearman 2018\n",
    "        f = 1/(1. + np.exp( -np.pi/np.sqrt(3.0)/self.tti_sigma * (T-self.time_to_intercept) ) )\n",
    "        return f"
   ]
  },
  {
   "cell_type": "code",
   "execution_count": 23,
   "id": "f5012b5d-38a0-4874-a87d-334d694cd3f7",
   "metadata": {},
   "outputs": [],
   "source": [
    "def initialise_players(team,teamname,params,GKid):\n",
    "    player_ids = np.unique([c.split('_')[0] for c in team.keys()])\n",
    "    \n",
    "    # create list\n",
    "    team_players = []\n",
    "    for p in player_ids:\n",
    "        # create a player object for player_id 'p'\n",
    "        team_player = player(p,team, teamname,params,GKid)\n",
    "        if team_player.inframe:\n",
    "            team_players.append(team_player)\n",
    "    return team_players"
   ]
  },
  {
   "cell_type": "code",
   "execution_count": 24,
   "id": "88d0b240-3328-4f08-a7a4-a4af5b12841a",
   "metadata": {},
   "outputs": [],
   "source": [
    "def find_goalkeeper(team, teamname):\n",
    "    '''\n",
    "    Find the goalkeeper in team, identifying him/her as the player closest to goal at kick off\n",
    "    ''' \n",
    "    xcolumns = [f\"{i}_x\" for i in range(11)] if teamname == 1.0 else [f\"{i}_x\" for i in range(11, 22)]\n",
    "    \n",
    "    GK_col = team.iloc[0][xcolumns].abs().idxmax()\n",
    "    return GK_col.split('_')[0]"
   ]
  },
  {
   "cell_type": "code",
   "execution_count": 25,
   "id": "7e73fe2a-464b-4c03-a28c-99951c45bc79",
   "metadata": {},
   "outputs": [],
   "source": [
    "def find_playing_direction(team,teamname):\n",
    "    '''\n",
    "    Find the direction of play for the team (based on where the goalkeepers are at kickoff). +1 is left->right and -1 is right->left\n",
    "    '''    \n",
    "    GK_column_x = find_goalkeeper(team, teamname)+\"_x\"\n",
    "    # +ve is left->right, -ve is right->left\n",
    "    return -np.sign(team.iloc[0][GK_column_x])"
   ]
  },
  {
   "cell_type": "code",
   "execution_count": 26,
   "id": "df7f1b67-2bee-4aa3-b588-5cf2e352222d",
   "metadata": {},
   "outputs": [],
   "source": [
    "def to_single_playing_direction(home,away,events):\n",
    "    '''\n",
    "    Flip coordinates in second half so that each team always shoots in the same direction through the match.\n",
    "    '''\n",
    "    second_half_idx = events.query(\"period == 2\").index\n",
    "    home.loc[second_half_idx, :] *= -1\n",
    "    away.loc[second_half_idx, :] *= -1\n",
    "        \n",
    "    return home,away,events"
   ]
  },
  {
   "cell_type": "code",
   "execution_count": 27,
   "id": "af192c69-34a8-43f4-ac79-f5b2f6908bdb",
   "metadata": {},
   "outputs": [],
   "source": [
    "def check_offsides( attacking_players, defending_players, ball_position, GK_numbers, verbose=False, tol=0.2):\n",
    "    \"\"\"\n",
    "    check_offsides( attacking_players, defending_players, ball_position, GK_numbers, verbose=False, tol=0.2):\n",
    "    \n",
    "    checks whetheer any of the attacking players are offside (allowing for a 'tol' margin of error). Offside players are removed from \n",
    "    the 'attacking_players' list and ignored in the pitch control calculation.\n",
    "    \n",
    "    Parameters\n",
    "    -----------\n",
    "        attacking_players: list of 'player' objects (see player class above) for the players on the attacking team (team in possession)\n",
    "        defending_players: list of 'player' objects (see player class above) for the players on the defending team\n",
    "        ball_position: Current position of the ball (start position for a pass). If set to NaN, function will assume that the ball is already at the target position.\n",
    "        GK_numbers: tuple containing the player id of the goalkeepers for the (home team, away team)\n",
    "        verbose: if True, print a message each time a player is found to be offside\n",
    "        tol: A tolerance parameter that allows a player to be very marginally offside (up to 'tol' m) without being flagged offside. Default: 0.2m\n",
    "            \n",
    "    Returrns\n",
    "    -----------\n",
    "        attacking_players: list of 'player' objects for the players on the attacking team with offside players removed\n",
    "    \"\"\"    \n",
    "    defending_GK_id = GK_numbers[1] if attacking_players[0].teamname==1.0 else GK_numbers[0]\n",
    "    \n",
    "    assert defending_GK_id in [p.id for p in defending_players], \"Defending goalkeeper jersey number not found in defending players\"\n",
    "    \n",
    "    defending_GK = [p for p in defending_players if p.id==defending_GK_id][0]  \n",
    "    defending_half = np.sign(defending_GK.position[0])\n",
    "    \n",
    "    second_deepest_defender_x = sorted([defending_half*p.position[0] for p in defending_players], reverse=True)[1]\n",
    "\n",
    "    offside_line = max(second_deepest_defender_x,defending_half*ball_position[0],0.0)+tol\n",
    "    if verbose:\n",
    "        for p in attacking_players:\n",
    "            if p.position[0]*defending_half>offside_line:\n",
    "                print(\"player %s in %s team is offside\" % (p.id, p.playername))\n",
    "                \n",
    "    attacking_players = [p for p in attacking_players if p.position[0]*defending_half<=offside_line]\n",
    "    return attacking_players"
   ]
  },
  {
   "cell_type": "code",
   "execution_count": 28,
   "id": "44fe82fd-632e-4bf3-8179-cfbfd49a9db4",
   "metadata": {},
   "outputs": [],
   "source": [
    "def calculate_pitch_control_at_target(target_position, attacking_players, defending_players, ball_start_pos, params):\n",
    "    \"\"\" calculate_pitch_control_at_target\n",
    "    \n",
    "    Calculates the pitch control probability for the attacking and defending teams at a specified target position on the ball.\n",
    "    \n",
    "    Parameters\n",
    "    -----------\n",
    "        target_position: size 2 numpy array containing the (x,y) position of the position on the field to evaluate pitch control\n",
    "        attacking_players: list of 'player' objects (see player class above) for the players on the attacking team (team in possession)\n",
    "        defending_players: list of 'player' objects (see player class above) for the players on the defending team\n",
    "        ball_start_pos: Current position of the ball (start position for a pass). If set to NaN, function will assume that the ball is already at the target position.\n",
    "        params: Dictionary of model parameters (default model parameters can be generated using default_model_params() )\n",
    "        \n",
    "    Returrns\n",
    "    -----------\n",
    "        PPCFatt: Pitch control probability for the attacking team\n",
    "        PPCFdef: Pitch control probability for the defending team ( 1-PPCFatt-PPCFdef <  params['model_converge_tol'] )\n",
    "\n",
    "    \"\"\"\n",
    "    # calculate ball travel time from start position to end position.\n",
    "    if ball_start_pos is None or any(np.isnan(ball_start_pos)): # assume that ball is already at location\n",
    "        ball_travel_time = 0.0 \n",
    "    else:\n",
    "        # ball travel time is distance to target position from current ball position divided assumed average ball speed\n",
    "        ball_travel_time = np.linalg.norm( target_position - ball_start_pos )/params['average_ball_speed']\n",
    "    \n",
    "    # first get arrival time of 'nearest' attacking player (nearest also dependent on current velocity)\n",
    "    tau_min_att = np.nanmin( [p.simple_time_to_intercept(target_position) for p in attacking_players] )\n",
    "    tau_min_def = np.nanmin( [p.simple_time_to_intercept(target_position ) for p in defending_players] )\n",
    "    \n",
    "    # check whether we actually need to solve equation 3\n",
    "    if tau_min_att-max(ball_travel_time,tau_min_def) >= params['time_to_control_def']:\n",
    "        # if defending team can arrive significantly before attacking team, no need to solve pitch control model\n",
    "        return 0., 1.\n",
    "    elif tau_min_def-max(ball_travel_time,tau_min_att) >= params['time_to_control_att']:\n",
    "        # if attacking team can arrive significantly before defending team, no need to solve pitch control model\n",
    "        return 1., 0.\n",
    "    else: \n",
    "        # solve pitch control model by integrating equation 3 in Spearman et al.\n",
    "        # first remove any player that is far (in time) from the target location\n",
    "        attacking_players = [p for p in attacking_players if p.time_to_intercept-tau_min_att < params['time_to_control_att'] ]\n",
    "        defending_players = [p for p in defending_players if p.time_to_intercept-tau_min_def < params['time_to_control_def'] ]\n",
    "        # set up integration arrays\n",
    "        dT_array = np.arange(ball_travel_time-params['int_dt'],ball_travel_time+params['max_int_time'],params['int_dt']) \n",
    "        PPCFatt = np.zeros_like( dT_array )\n",
    "        PPCFdef = np.zeros_like( dT_array )\n",
    "        # integration equation 3 of Spearman 2018 until convergence or tolerance limit hit (see 'params')\n",
    "        ptot = 0.0\n",
    "        i = 1\n",
    "        while 1-ptot>params['model_converge_tol'] and i<dT_array.size: \n",
    "            T = dT_array[i]\n",
    "            for player in attacking_players:\n",
    "                # calculate ball control probablity for 'player' in time interval T+dt\n",
    "                dPPCFdT = (1-PPCFatt[i-1]-PPCFdef[i-1])*player.probability_intercept_ball( T ) * player.lambda_att\n",
    "                # make sure it's greater than zero\n",
    "                assert dPPCFdT>=0, 'Invalid attacking player probability (calculate_pitch_control_at_target)'\n",
    "                player.PPCF += dPPCFdT*params['int_dt'] # total contribution from individual player\n",
    "                PPCFatt[i] += player.PPCF # add to sum over players in the attacking team (remembering array element is zero at the start of each integration iteration)\n",
    "            for player in defending_players:\n",
    "                # calculate ball control probablity for 'player' in time interval T+dt\n",
    "                dPPCFdT = (1-PPCFatt[i-1]-PPCFdef[i-1])*player.probability_intercept_ball( T ) * player.lambda_def\n",
    "                # make sure it's greater than zero\n",
    "                assert dPPCFdT>=0, 'Invalid defending player probability (calculate_pitch_control_at_target)'\n",
    "                player.PPCF += dPPCFdT*params['int_dt'] # total contribution from individual player\n",
    "                PPCFdef[i] += player.PPCF # add to sum over players in the defending team\n",
    "            ptot = PPCFdef[i]+PPCFatt[i] # total pitch control probability \n",
    "            i += 1\n",
    "        if i>=dT_array.size:\n",
    "            print(\"Integration failed to converge: %1.3f\" % (ptot) )\n",
    "        return PPCFatt[i-1], PPCFdef[i-1]"
   ]
  },
  {
   "cell_type": "code",
   "execution_count": 29,
   "id": "73a11a34-bd55-4c93-87b6-70f3f7a89eba",
   "metadata": {},
   "outputs": [],
   "source": [
    "def generate_pitch_control_for_event(event_id, events, tracking_home, tracking_away, params, GK_numbers, field_dimen = (106.,68.,), n_grid_cells_x = 40, offsides=True):\n",
    "    \"\"\" generate_pitch_control_for_event\n",
    "    \n",
    "    Evaluates pitch control surface over the entire field at the moment of the given event (determined by the index of the event passed as an input)\n",
    "    \n",
    "    Parameters\n",
    "    -----------\n",
    "        event_id: Index (not row) of the event that describes the instant at which the pitch control surface should be calculated\n",
    "        events: Dataframe containing the event data\n",
    "        tracking_home: tracking DataFrame for the Home team\n",
    "        tracking_away: tracking DataFrame for the Away team\n",
    "        params: Dictionary of model parameters (default model parameters can be generated using default_model_params() )\n",
    "        GK_numbers: tuple containing the player id of the goalkeepers for the (home team, away team)\n",
    "        field_dimen: tuple containing the length and width of the pitch in meters. Default is (106,68)\n",
    "        n_grid_cells_x: Number of pixels in the grid (in the x-direction) that covers the surface. Default is 50.\n",
    "                        n_grid_cells_y will be calculated based on n_grid_cells_x and the field dimensions\n",
    "        offsides: If True, find and remove offside atacking players from the calculation. Default is True.\n",
    "        \n",
    "    UPDATE (tutorial 4): Note new input arguments ('GK_numbers' and 'offsides')\n",
    "        \n",
    "    Returrns\n",
    "    -----------\n",
    "        PPCFa: Pitch control surface (dimen (n_grid_cells_x,n_grid_cells_y) ) containing pitch control probability for the attcking team.\n",
    "               Surface for the defending team is just 1-PPCFa.\n",
    "        xgrid: Positions of the pixels in the x-direction (field length)\n",
    "        ygrid: Positions of the pixels in the y-direction (field width)\n",
    "\n",
    "    \"\"\"\n",
    "    # get the details of the event (frame, team in possession, ball_start_position)\n",
    "    pass_team = events.loc[event_id, \"home_ball\"]\n",
    "    ball_start_pos = np.array([events.loc[event_id]['ball_x'],events.loc[event_id]['ball_y']])\n",
    "    \n",
    "    # break the pitch down into a grid\n",
    "    n_grid_cells_y = int(n_grid_cells_x*field_dimen[1]/field_dimen[0])\n",
    "    dx = field_dimen[0]/n_grid_cells_x\n",
    "    dy = field_dimen[1]/n_grid_cells_y\n",
    "    xgrid = np.arange(n_grid_cells_x)*dx - field_dimen[0]/2. + dx/2.\n",
    "    ygrid = np.arange(n_grid_cells_y)*dy - field_dimen[1]/2. + dy/2.\n",
    "    # initialise pitch control grids for attacking and defending teams \n",
    "    PPCFa = np.zeros( shape = (len(ygrid), len(xgrid)) )\n",
    "    PPCFd = np.zeros( shape = (len(ygrid), len(xgrid)) )\n",
    "    # initialise player positions and velocities for pitch control calc (so that we're not repeating this at each grid cell position)\n",
    "    if pass_team==1.0:\n",
    "        attacking_players = initialise_players(tracking_home.loc[event_id],1.0,params,GK_numbers[0])\n",
    "        defending_players = initialise_players(tracking_away.loc[event_id],0.0,params,GK_numbers[1])\n",
    "    elif pass_team==0.0:\n",
    "        defending_players = initialise_players(tracking_home.loc[event_id],1.0,params,GK_numbers[0])\n",
    "        attacking_players = initialise_players(tracking_away.loc[event_id],0.0,params,GK_numbers[1])\n",
    "    else:\n",
    "        assert False, \"Team in possession must be either home or away\"\n",
    "        \n",
    "    # find any attacking players that are offside and remove them from the pitch control calculation\n",
    "    if offsides:\n",
    "        attacking_players = check_offsides( attacking_players, defending_players, ball_start_pos, GK_numbers)\n",
    "    # calculate pitch pitch control model at each location on the pitch\n",
    "    for i in range( len(ygrid) ):\n",
    "        for j in range( len(xgrid) ):\n",
    "            target_position = np.array( [xgrid[j], ygrid[i]] )\n",
    "            PPCFa[i,j],PPCFd[i,j] = calculate_pitch_control_at_target(target_position, attacking_players, defending_players, ball_start_pos, params)\n",
    "    # check probabilitiy sums within convergence\n",
    "    checksum = np.sum( PPCFa + PPCFd ) / float(n_grid_cells_y*n_grid_cells_x ) \n",
    "    assert 1-checksum < params['model_converge_tol'], \"Checksum failed: %1.3f\" % (1-checksum)\n",
    "    return PPCFa,xgrid,ygrid"
   ]
  },
  {
   "cell_type": "code",
   "execution_count": 84,
   "id": "63a4a7c6-228c-4b8d-9f0a-629b8fa8f57e",
   "metadata": {},
   "outputs": [],
   "source": [
    "def plot_pitch(field_dimen = (105.0,68.0), field_color ='green', linewidth=1, markersize=10):\n",
    "    fig,ax = plt.subplots(figsize=(3,2.25)) # create a figure \n",
    "    # decide what color we want the field to be. Default is green, but can also choose white\n",
    "    if field_color=='green':\n",
    "        ax.set_facecolor('mediumseagreen')\n",
    "        lc = 'whitesmoke' # line color\n",
    "        pc = 'w' # 'spot' colors\n",
    "    elif field_color=='white':\n",
    "        lc = 'k'\n",
    "        pc = 'k'\n",
    "    # ALL DIMENSIONS IN m\n",
    "    border_dimen = (3,3) # include a border arround of the field of width 3m\n",
    "    meters_per_yard = 0.9144 # unit conversion from yards to meters\n",
    "    half_pitch_length = field_dimen[0]/2. # length of half pitch\n",
    "    half_pitch_width = field_dimen[1]/2. # width of half pitch\n",
    "    signs = [-1,1] \n",
    "    # Soccer field dimensions typically defined in yards, so we need to convert to meters\n",
    "    goal_line_width = 8*meters_per_yard\n",
    "    box_width = 20*meters_per_yard\n",
    "    box_length = 6*meters_per_yard\n",
    "    area_width = 44*meters_per_yard\n",
    "    area_length = 18*meters_per_yard\n",
    "    penalty_spot = 12*meters_per_yard\n",
    "    corner_radius = 1*meters_per_yard\n",
    "    D_length = 8*meters_per_yard\n",
    "    D_radius = 10*meters_per_yard\n",
    "    D_pos = 12*meters_per_yard\n",
    "    centre_circle_radius = 10*meters_per_yard\n",
    "    # plot half way line # center circle\n",
    "    ax.plot([0,0],[-half_pitch_width,half_pitch_width],lc,linewidth=linewidth)\n",
    "    ax.scatter(0.0,0.0,marker='o',facecolor=lc,linewidth=0,s=markersize)\n",
    "    y = np.linspace(-1,1,50)*centre_circle_radius\n",
    "    x = np.sqrt(centre_circle_radius**2-y**2)\n",
    "    ax.plot(x,y,lc,linewidth=linewidth)\n",
    "    ax.plot(-x,y,lc,linewidth=linewidth)\n",
    "    for s in signs: # plots each line seperately\n",
    "        # plot pitch boundary\n",
    "        ax.plot([-half_pitch_length,half_pitch_length],[s*half_pitch_width,s*half_pitch_width],lc,linewidth=linewidth)\n",
    "        ax.plot([s*half_pitch_length,s*half_pitch_length],[-half_pitch_width,half_pitch_width],lc,linewidth=linewidth)\n",
    "        # goal posts & line\n",
    "        ax.plot( [s*half_pitch_length,s*half_pitch_length],[-goal_line_width/2.,goal_line_width/2.],pc+'s',markersize=6*markersize/20.,linewidth=linewidth)\n",
    "        # 6 yard box\n",
    "        ax.plot([s*half_pitch_length,s*half_pitch_length-s*box_length],[box_width/2.,box_width/2.],lc,linewidth=linewidth)\n",
    "        ax.plot([s*half_pitch_length,s*half_pitch_length-s*box_length],[-box_width/2.,-box_width/2.],lc,linewidth=linewidth)\n",
    "        ax.plot([s*half_pitch_length-s*box_length,s*half_pitch_length-s*box_length],[-box_width/2.,box_width/2.],lc,linewidth=linewidth)\n",
    "        # penalty area\n",
    "        ax.plot([s*half_pitch_length,s*half_pitch_length-s*area_length],[area_width/2.,area_width/2.],lc,linewidth=linewidth)\n",
    "        ax.plot([s*half_pitch_length,s*half_pitch_length-s*area_length],[-area_width/2.,-area_width/2.],lc,linewidth=linewidth)\n",
    "        ax.plot([s*half_pitch_length-s*area_length,s*half_pitch_length-s*area_length],[-area_width/2.,area_width/2.],lc,linewidth=linewidth)\n",
    "        # penalty spot\n",
    "        ax.scatter(s*half_pitch_length-s*penalty_spot,0.0,marker='o',facecolor=lc,linewidth=0,s=markersize)\n",
    "        # corner flags\n",
    "        y = np.linspace(0,1,50)*corner_radius\n",
    "        x = np.sqrt(corner_radius**2-y**2)\n",
    "        ax.plot(s*half_pitch_length-s*x,-half_pitch_width+y,lc,linewidth=linewidth)\n",
    "        ax.plot(s*half_pitch_length-s*x,half_pitch_width-y,lc,linewidth=linewidth)\n",
    "        # draw the D\n",
    "        y = np.linspace(-1,1,50)*D_length # D_length is the chord of the circle that defines the D\n",
    "        x = np.sqrt(D_radius**2-y**2)+D_pos\n",
    "        ax.plot(s*half_pitch_length-s*x,y,lc,linewidth=linewidth)\n",
    "        \n",
    "    # remove axis labels and ticks\n",
    "    ax.set_xticklabels([])\n",
    "    ax.set_yticklabels([])\n",
    "    ax.set_xticks([])\n",
    "    ax.set_yticks([])\n",
    "    # set axis limits\n",
    "    xmax = field_dimen[0]/2. + border_dimen[0]\n",
    "    ymax = field_dimen[1]/2. + border_dimen[1]\n",
    "    ax.set_xlim([-xmax,xmax])\n",
    "    ax.set_ylim([-ymax,ymax])\n",
    "    ax.set_axisbelow(True)\n",
    "    return fig,ax\n",
    "\n",
    "def plot_frame(hometeam, awayteam, ball_pos, recep_pos, figax=None, team_colors=('r','b'), field_dimen = (105.0,68.0), include_player_velocities=False, PlayerMarkerSize=2, PlayerAlpha=0.5, annotate=False ):\n",
    "    if figax is None: # create new pitch \n",
    "        fig,ax = plot_pitch( field_dimen = field_dimen )\n",
    "    else: # overlay on a previously generated pitch\n",
    "        fig,ax = figax # unpack tuple\n",
    "    # plot home & away teams in order\n",
    "    \n",
    "    for team,teamname, color in zip([hometeam,awayteam], [1.0, 0.0], team_colors) :\n",
    "        x_columns = [f\"{i}_x\" for i in range(11)] if teamname == 1.0 else [f\"{i}_x\" for i in range(11, 22)]\n",
    "        y_columns = [f\"{i}_y\" for i in range(11)] if teamname == 1.0 else [f\"{i}_y\" for i in range(11, 22)]\n",
    "        \n",
    "        ax.plot( team[x_columns], team[y_columns], color+'o', markersize=PlayerMarkerSize, alpha=PlayerAlpha ) # plot player positions\n",
    "        if include_player_velocities:\n",
    "            vx_columns = [f\"{i}_vx\" for i in range(11)] if teamname == 1.0 else [f\"{i}_x\" for i in range(11, 22)]\n",
    "            vy_columns = [f\"{i}_vy\" for i in range(11)] if teamname == 1.0 else [f\"{i}_x\" for i in range(11, 22)]\n",
    "            ax.quiver( team[x_columns], team[y_columns], team[vx_columns], team[vy_columns], color=color, scale_units='inches', scale=10.,width=0.0015,headlength=5,headwidth=3,alpha=PlayerAlpha)\n",
    "        if annotate:\n",
    "            [ ax.text( team[x]+0.5, team[y]+0.5, x.split('_')[1], fontsize=10, color=color  ) for x,y in zip(x_columns,y_columns) if not ( np.isnan(team[x]) or np.isnan(team[y]) ) ] \n",
    "    # plot ball\n",
    "    ax.plot(ball_pos['ball_x'], ball_pos['ball_y'], 'yo', markersize=5, alpha=0.7, linewidth=0)\n",
    "    #plot receptor\n",
    "    ax.plot(recep_pos['receptor_x'], recep_pos['receptor_y'], 'go', markersize=5, alpha=0.7, linewidth=0)\n",
    "\n",
    "    ax.plot((ball_pos[\"ball_x\"], recep_pos['receptor_x']), (ball_pos[\"ball_y\"], recep_pos['receptor_y']), linewidth=1, color=\"white\")\n",
    "    return fig,ax"
   ]
  },
  {
   "cell_type": "code",
   "execution_count": 31,
   "id": "84482c1f-d557-41e1-b09c-7ea379547aa2",
   "metadata": {},
   "outputs": [],
   "source": [
    "def plot_pitchcontrol_for_event( event_id, events,  tracking_home, tracking_away, PPCF, alpha = 0.7, include_player_velocities=False, annotate=False, field_dimen = (105.0,68)):\n",
    "    # pick a pass at which to generate the pitch control surface\n",
    "    pass_frame = event_id\n",
    "    pass_team = events.loc[event_id][\"home_ball\"]\n",
    "    \n",
    "    # plot frame and event\n",
    "    fig,ax = plot_pitch(field_color='white', field_dimen = field_dimen)\n",
    "    plot_frame(\n",
    "        tracking_home.loc[pass_frame], \n",
    "        tracking_away.loc[pass_frame], \n",
    "        events.loc[event_id, [\"ball_x\", \"ball_y\"]], \n",
    "        events.loc[event_id, [\"receptor_x\", \"receptor_y\"]],\n",
    "        figax=(fig,ax), PlayerAlpha=alpha, include_player_velocities=include_player_velocities, annotate=annotate )\n",
    "    # plot_events( events.loc[event_id:event_id], figax = (fig,ax), indicators = ['Marker','Arrow'], annotate=False, color= 'k', alpha=1 )\n",
    "    \n",
    "    # plot pitch control surface\n",
    "    if pass_team==1.0:\n",
    "        cmap = 'bwr'\n",
    "    else:\n",
    "        cmap = 'bwr_r'\n",
    "    ax.imshow(np.flipud(PPCF), extent=(-field_dimen[0]/2., field_dimen[0]/2., -field_dimen[1]/2., field_dimen[1]/2.),interpolation='spline36',vmin=0.0,vmax=1.0,cmap=cmap,alpha=0.5)\n",
    "    fig.tight_layout(pad=0)\n",
    "    ax.axis(\"off\")\n",
    "    return fig,ax"
   ]
  },
  {
   "cell_type": "code",
   "execution_count": 32,
   "id": "cb4219f6-afa5-4d89-87d2-702153a8997c",
   "metadata": {},
   "outputs": [],
   "source": [
    "def default_model_params(time_to_control_veto=3):\n",
    "    # key parameters for the model, as described in Spearman 2018\n",
    "    params = {}\n",
    "    # model parameters\n",
    "    params['max_player_accel'] = 7. # maximum player acceleration m/s/s, not used in this implementation\n",
    "    params['max_player_speed'] = 5. # maximum player speed m/s\n",
    "    params['reaction_time'] = 0.7 # seconds, time taken for player to react and change trajectory. Roughly determined as vmax/amax\n",
    "    params['tti_sigma'] = 0.45 # Standard deviation of sigmoid function in Spearman 2018 ('s') that determines uncertainty in player arrival time\n",
    "    params['kappa_def'] =  1. # kappa parameter in Spearman 2018 (=1.72 in the paper) that gives the advantage defending players to control ball, I have set to 1 so that home & away players have same ball control probability\n",
    "    params['lambda_att'] = 4.3 # ball control parameter for attacking team\n",
    "    params['lambda_def'] = 4.3 * params['kappa_def'] # ball control parameter for defending team\n",
    "    params['lambda_gk'] = params['lambda_def']*3.0 # make goal keepers must quicker to control ball (because they can catch it)\n",
    "    params['average_ball_speed'] = 15. # average ball travel speed in m/s\n",
    "    # numerical parameters for model evaluation\n",
    "    params['int_dt'] = 0.04 # integration timestep (dt)\n",
    "    params['max_int_time'] = 10 # upper limit on integral time\n",
    "    params['model_converge_tol'] = 0.01 # assume convergence when PPCF>0.99 at a given location.\n",
    "    # The following are 'short-cut' parameters. We do not need to calculated PPCF explicitly when a player has a sufficient head start. \n",
    "    # A sufficient head start is when the a player arrives at the target location at least 'time_to_control' seconds before the next player\n",
    "    params['time_to_control_att'] = time_to_control_veto*np.log(10) * (np.sqrt(3)*params['tti_sigma']/np.pi + 1/params['lambda_att'])\n",
    "    params['time_to_control_def'] = time_to_control_veto*np.log(10) * (np.sqrt(3)*params['tti_sigma']/np.pi + 1/params['lambda_def'])\n",
    "    return params"
   ]
  },
  {
   "cell_type": "markdown",
   "id": "037f1b7b-ba71-4091-8c76-55f81cc1f34e",
   "metadata": {},
   "source": [
    "## Fazendo"
   ]
  },
  {
   "cell_type": "code",
   "execution_count": 33,
   "id": "1bdc3f9e-c25e-4a1d-aba8-dcb38028217e",
   "metadata": {},
   "outputs": [],
   "source": [
    "game_id = df_sel.iloc[0][\"game_id\"]\n",
    "\n",
    "game_events = df_sel.query(f\"game_id == {game_id}\")\n",
    "\n",
    "home = game_events[[f\"{i}_x\" for i in range(11)] + [f\"{i}_y\" for i in range(11)] + [f\"{i}_vx\" for i in range(11)] + [f\"{i}_vy\" for i in range(11)]]\n",
    "away = game_events[[f\"{i}_x\" for i in range(11, 22)] + [f\"{i}_y\" for i in range(11, 22)] + [f\"{i}_vx\" for i in range(11, 22)] + [f\"{i}_vy\" for i in range(11, 22)]]"
   ]
  },
  {
   "cell_type": "code",
   "execution_count": 85,
   "id": "892486b1-d78c-4564-994c-5c29069ed99e",
   "metadata": {},
   "outputs": [
    {
     "name": "stderr",
     "output_type": "stream",
     "text": [
      "C:\\Users\\tonim\\AppData\\Local\\Temp\\ipykernel_12460\\3766729019.py:6: SettingWithCopyWarning: \n",
      "A value is trying to be set on a copy of a slice from a DataFrame\n",
      "\n",
      "See the caveats in the documentation: https://pandas.pydata.org/pandas-docs/stable/user_guide/indexing.html#returning-a-view-versus-a-copy\n",
      "  home.loc[second_half_idx, :] *= -1\n",
      "C:\\Users\\tonim\\AppData\\Local\\Temp\\ipykernel_12460\\3766729019.py:7: SettingWithCopyWarning: \n",
      "A value is trying to be set on a copy of a slice from a DataFrame\n",
      "\n",
      "See the caveats in the documentation: https://pandas.pydata.org/pandas-docs/stable/user_guide/indexing.html#returning-a-view-versus-a-copy\n",
      "  away.loc[second_half_idx, :] *= -1\n",
      "100%|████████████████████████████████████████████████████████████████████████████████████| 1/1 [00:01<00:00,  1.38s/it]\n"
     ]
    }
   ],
   "source": [
    "from tqdm import tqdm \n",
    "params = default_model_params()\n",
    "\n",
    "home_playing_direction = find_playing_direction(home, 1.0)\n",
    "away_playing_direction = find_playing_direction(away, 0.0)\n",
    "\n",
    "home, away, _ = to_single_playing_direction(home,away,game_events)\n",
    "\n",
    "GKs = find_goalkeeper(home, 1.0), find_goalkeeper(away, 0.0)\n",
    "\n",
    "fields = []\n",
    "for event_id in tqdm(game_events.index[:1]):\n",
    "    PCFF, xgrid, ygrid = generate_pitch_control_for_event(event_id, game_events, home, away, params, GKs)\n",
    "    fig, ax = plot_pitchcontrol_for_event(event_id, game_events,  home, away, PCFF, annotate=False)\n",
    "\n",
    "    fig.canvas.draw()\n",
    "    width, height = fig.canvas.get_width_height()\n",
    "    rgb_string = fig.canvas.tostring_rgb()\n",
    "    rgb_array = np.frombuffer(rgb_string, dtype=np.uint8).reshape(height, width, 3)\n",
    "    fields.append(rgb_array)\n",
    "\n",
    "    plt.close('all')"
   ]
  },
  {
   "cell_type": "code",
   "execution_count": 86,
   "id": "9051a52b-746d-4a0b-902d-d41f6e307d31",
   "metadata": {},
   "outputs": [
    {
     "data": {
      "text/plain": [
       "<matplotlib.image.AxesImage at 0x1fb3b1c25d0>"
      ]
     },
     "execution_count": 86,
     "metadata": {},
     "output_type": "execute_result"
    },
    {
     "data": {
      "image/png": "[encoded data removed]",
      "text/plain": [
       "<Figure size 640x480 with 1 Axes>"
      ]
     },
     "metadata": {},
     "output_type": "display_data"
    }
   ],
   "source": [
    "plt.imshow(fields[0])"
   ]
  },
  {
   "cell_type": "code",
   "execution_count": 81,
   "id": "1d878776-0fcc-416d-a64e-b2f6df078a40",
   "metadata": {},
   "outputs": [],
   "source": [
    "np.save('X.npy', np.array(fields))"
   ]
  },
  {
   "cell_type": "markdown",
   "id": "3f213ab5-84df-4485-9a9c-28d04172007c",
   "metadata": {},
   "source": [
    "## Modelos"
   ]
  },
  {
   "cell_type": "code",
   "execution_count": 6,
   "id": "1e2c504c-0fb5-4686-9d2e-efe79e1b337b",
   "metadata": {},
   "outputs": [],
   "source": [
    "fields = np.load(\"X.npy\")"
   ]
  },
  {
   "cell_type": "code",
   "execution_count": 43,
   "id": "4dbc44c1-b574-46f4-a96a-3d579d3116e9",
   "metadata": {},
   "outputs": [],
   "source": [
    "X = np.array(fields, dtype=np.float32)"
   ]
  },
  {
   "cell_type": "code",
   "execution_count": 44,
   "id": "fe4a6578-60da-44b2-8f37-c3de870ff166",
   "metadata": {},
   "outputs": [
    {
     "name": "stderr",
     "output_type": "stream",
     "text": [
      "C:\\Users\\tonim\\AppData\\Local\\Temp\\ipykernel_12460\\1912201907.py:3: SettingWithCopyWarning: \n",
      "A value is trying to be set on a copy of a slice from a DataFrame.\n",
      "Try using .loc[row_indexer,col_indexer] = value instead\n",
      "\n",
      "See the caveats in the documentation: https://pandas.pydata.org/pandas-docs/stable/user_guide/indexing.html#returning-a-view-versus-a-copy\n",
      "  game_events[\"Y\"] = (game_events[\"pass_outcome_type\"] == \"D\").astype(int)\n"
     ]
    }
   ],
   "source": [
    "game_events.loc[:, \"pass_outcome_type\"] = df[\"pass_outcome_type\"].str.replace(\"B\", \"D\")\n",
    "game_events = game_events[~((game_events[\"pass_outcome_type\"] == \"O\") | (game_events[\"pass_outcome_type\"] == \"S\"))]\n",
    "game_events[\"Y\"] = (game_events[\"pass_outcome_type\"] == \"D\").astype(int)"
   ]
  },
  {
   "cell_type": "code",
   "execution_count": 45,
   "id": "866687c9-e4af-4e7b-b6f3-bc0952667222",
   "metadata": {},
   "outputs": [],
   "source": [
    "X = X[game_events.index]\n",
    "y = game_events[\"Y\"].values"
   ]
  },
  {
   "cell_type": "code",
   "execution_count": 54,
   "id": "514b1390-981d-4972-88cf-26e5781116fd",
   "metadata": {},
   "outputs": [],
   "source": [
    "from tensorflow.keras.utils import to_categorical\n",
    "y_hot = to_categorical(y, num_classes=2)"
   ]
  },
  {
   "cell_type": "code",
   "execution_count": 57,
   "id": "bdae70b1-3455-4816-ad88-399a4ed27ea9",
   "metadata": {},
   "outputs": [],
   "source": [
    "from sklearn.model_selection import train_test_split\n",
    "\n",
    "X_train, X_test, y_train, y_test = train_test_split(\n",
    "    X, y_hot, test_size=0.2, random_state=42\n",
    ")\n",
    "\n",
    "X_train /= 255.0\n",
    "X_test /= 255.0"
   ]
  },
  {
   "cell_type": "code",
   "execution_count": 76,
   "id": "a1b24d83-92a0-41a1-b229-831ebff4833a",
   "metadata": {},
   "outputs": [],
   "source": [
    "from tensorflow.keras import layers, models, optimizers\n",
    "\n",
    "model = models.Sequential()\n",
    "\n",
    "# Add a convolutional layer\n",
    "model.add(layers.Conv2D(4, (5, 5), activation='relu', input_shape=(225, 300, 3)))\n",
    "model.add(layers.MaxPooling2D((2, 2)))\n",
    "\n",
    "# Add more convolutional layers\n",
    "model.add(layers.Conv2D(8, (5, 5), activation='relu'))\n",
    "model.add(layers.MaxPooling2D((2, 2)))\n",
    "model.add(layers.Conv2D(8, (5, 5), activation='relu'))\n",
    "model.add(layers.MaxPooling2D((2, 2)))\n",
    "\n",
    "# Flatten the output and add fully connected layers\n",
    "model.add(layers.Flatten())\n",
    "model.add(layers.Dense(64, activation='relu'))\n",
    "model.add(layers.Dense(2, activation='softmax'))\n",
    "\n",
    "model.compile(optimizer=optimizers.Adam(learning_rate=1e-2),\n",
    "              loss='categorical_crossentropy',\n",
    "              metrics=['accuracy'])"
   ]
  },
  {
   "cell_type": "code",
   "execution_count": 64,
   "id": "a3e4e8a2-a4ee-456c-97b9-9796c4606cf6",
   "metadata": {},
   "outputs": [],
   "source": [
    "from sklearn.utils.class_weight import compute_class_weight\n",
    "class_weights = compute_class_weight('balanced', classes=np.unique(y), y=y)\n",
    "class_weights = dict(enumerate(class_weights))"
   ]
  },
  {
   "cell_type": "code",
   "execution_count": 72,
   "id": "2f39798a-c252-40ee-8ddf-be2445b4da57",
   "metadata": {},
   "outputs": [
    {
     "data": {
      "text/plain": [
       "0.8609566184649611"
      ]
     },
     "execution_count": 72,
     "metadata": {},
     "output_type": "execute_result"
    }
   ],
   "source": [
    "1 - y.mean()"
   ]
  },
  {
   "cell_type": "code",
   "execution_count": 77,
   "id": "099c903e-0d75-47ff-bd1c-ee3ac9e23b42",
   "metadata": {},
   "outputs": [
    {
     "name": "stdout",
     "output_type": "stream",
     "text": [
      "Epoch 1/5\n",
      "12/12 [==============================] - 14s 1s/step - loss: 0.6819 - accuracy: 0.3268\n",
      "Epoch 2/5\n",
      "12/12 [==============================] - 15s 1s/step - loss: 0.6772 - accuracy: 0.8693\n",
      "Epoch 3/5\n",
      "12/12 [==============================] - 15s 1s/step - loss: 0.6765 - accuracy: 0.8693\n",
      "Epoch 4/5\n",
      "12/12 [==============================] - 15s 1s/step - loss: 0.6754 - accuracy: 0.8693\n",
      "Epoch 5/5\n",
      "12/12 [==============================] - 15s 1s/step - loss: 0.6761 - accuracy: 0.8693\n"
     ]
    },
    {
     "data": {
      "text/plain": [
       "<keras.src.callbacks.History at 0x1fb409d3050>"
      ]
     },
     "execution_count": 77,
     "metadata": {},
     "output_type": "execute_result"
    }
   ],
   "source": [
    "model.fit(\n",
    "    X_train,\n",
    "    y_train,\n",
    "    epochs=5,\n",
    "    batch_size=64,\n",
    "    class_weight=class_weights\n",
    ")"
   ]
  },
  {
   "cell_type": "code",
   "execution_count": 80,
   "id": "d2205a2c-6b6e-4bcc-bad6-0e4baf905712",
   "metadata": {},
   "outputs": [
    {
     "name": "stdout",
     "output_type": "stream",
     "text": [
      "6/6 [==============================] - 1s 118ms/step\n"
     ]
    },
    {
     "data": {
      "text/plain": [
       "array([0, 0, 0, 0, 0, 0, 0, 0, 0, 0, 0, 0, 0, 0, 0, 0, 0, 0, 0, 0, 0, 0,\n",
       "       0, 0, 0, 0, 0, 0, 0, 0, 0, 0, 0, 0, 0, 0, 0, 0, 0, 0, 0, 0, 0, 0,\n",
       "       0, 0, 0, 0, 0, 0, 0, 0, 0, 0, 0, 0, 0, 0, 0, 0, 0, 0, 0, 0, 0, 0,\n",
       "       0, 0, 0, 0, 0, 0, 0, 0, 0, 0, 0, 0, 0, 0, 0, 0, 0, 0, 0, 0, 0, 0,\n",
       "       0, 0, 0, 0, 0, 0, 0, 0, 0, 0, 0, 0, 0, 0, 0, 0, 0, 0, 0, 0, 0, 0,\n",
       "       0, 0, 0, 0, 0, 0, 0, 0, 0, 0, 0, 0, 0, 0, 0, 0, 0, 0, 0, 0, 0, 0,\n",
       "       0, 0, 0, 0, 0, 0, 0, 0, 0, 0, 0, 0, 0, 0, 0, 0, 0, 0, 0, 0, 0, 0,\n",
       "       0, 0, 0, 0, 0, 0, 0, 0, 0, 0, 0, 0, 0, 0, 0, 0, 0, 0, 0, 0, 0, 0,\n",
       "       0, 0, 0, 0], dtype=int64)"
      ]
     },
     "execution_count": 80,
     "metadata": {},
     "output_type": "execute_result"
    }
   ],
   "source": [
    "np.argmax(model.predict(X_test), axis=1)"
   ]
  },
  {
   "cell_type": "code",
   "execution_count": 74,
   "id": "0b87b9e9-a06a-4a8a-baee-57d3e19a694b",
   "metadata": {},
   "outputs": [
    {
     "name": "stdout",
     "output_type": "stream",
     "text": [
      "6/6 [==============================] - 1s 140ms/step\n"
     ]
    },
    {
     "ename": "ValueError",
     "evalue": "Classification metrics can't handle a mix of multilabel-indicator and binary targets",
     "output_type": "error",
     "traceback": [
      "\u001b[1;31m---------------------------------------------------------------------------\u001b[0m",
      "\u001b[1;31mValueError\u001b[0m                                Traceback (most recent call last)",
      "Cell \u001b[1;32mIn[74], line 4\u001b[0m\n\u001b[0;32m      1\u001b[0m \u001b[38;5;28;01mfrom\u001b[39;00m \u001b[38;5;21;01msklearn\u001b[39;00m\u001b[38;5;21;01m.\u001b[39;00m\u001b[38;5;21;01mmetrics\u001b[39;00m \u001b[38;5;28;01mimport\u001b[39;00m classification_report\n\u001b[0;32m      2\u001b[0m \u001b[38;5;28;01mfrom\u001b[39;00m \u001b[38;5;21;01msklearn\u001b[39;00m\u001b[38;5;21;01m.\u001b[39;00m\u001b[38;5;21;01mmetrics\u001b[39;00m \u001b[38;5;28;01mimport\u001b[39;00m ConfusionMatrixDisplay\n\u001b[1;32m----> 4\u001b[0m \u001b[43mclassification_report\u001b[49m\u001b[43m(\u001b[49m\u001b[43my_test\u001b[49m\u001b[43m,\u001b[49m\u001b[43m \u001b[49m\u001b[43mnp\u001b[49m\u001b[38;5;241;43m.\u001b[39;49m\u001b[43margmax\u001b[49m\u001b[43m(\u001b[49m\u001b[43mmodel\u001b[49m\u001b[38;5;241;43m.\u001b[39;49m\u001b[43mpredict\u001b[49m\u001b[43m(\u001b[49m\u001b[43mX_test\u001b[49m\u001b[43m)\u001b[49m\u001b[43m,\u001b[49m\u001b[43m \u001b[49m\u001b[43maxis\u001b[49m\u001b[38;5;241;43m=\u001b[39;49m\u001b[38;5;241;43m1\u001b[39;49m\u001b[43m)\u001b[49m\u001b[43m,\u001b[49m\u001b[43m \u001b[49m\u001b[43moutput_dict\u001b[49m\u001b[38;5;241;43m=\u001b[39;49m\u001b[38;5;28;43;01mTrue\u001b[39;49;00m\u001b[43m)\u001b[49m\n",
      "File \u001b[1;32m~\\AppData\\Local\\Programs\\Python\\Python311\\Lib\\site-packages\\sklearn\\utils\\_param_validation.py:213\u001b[0m, in \u001b[0;36mvalidate_params.<locals>.decorator.<locals>.wrapper\u001b[1;34m(*args, **kwargs)\u001b[0m\n\u001b[0;32m    207\u001b[0m \u001b[38;5;28;01mtry\u001b[39;00m:\n\u001b[0;32m    208\u001b[0m     \u001b[38;5;28;01mwith\u001b[39;00m config_context(\n\u001b[0;32m    209\u001b[0m         skip_parameter_validation\u001b[38;5;241m=\u001b[39m(\n\u001b[0;32m    210\u001b[0m             prefer_skip_nested_validation \u001b[38;5;129;01mor\u001b[39;00m global_skip_validation\n\u001b[0;32m    211\u001b[0m         )\n\u001b[0;32m    212\u001b[0m     ):\n\u001b[1;32m--> 213\u001b[0m         \u001b[38;5;28;01mreturn\u001b[39;00m \u001b[43mfunc\u001b[49m\u001b[43m(\u001b[49m\u001b[38;5;241;43m*\u001b[39;49m\u001b[43margs\u001b[49m\u001b[43m,\u001b[49m\u001b[43m \u001b[49m\u001b[38;5;241;43m*\u001b[39;49m\u001b[38;5;241;43m*\u001b[39;49m\u001b[43mkwargs\u001b[49m\u001b[43m)\u001b[49m\n\u001b[0;32m    214\u001b[0m \u001b[38;5;28;01mexcept\u001b[39;00m InvalidParameterError \u001b[38;5;28;01mas\u001b[39;00m e:\n\u001b[0;32m    215\u001b[0m     \u001b[38;5;66;03m# When the function is just a wrapper around an estimator, we allow\u001b[39;00m\n\u001b[0;32m    216\u001b[0m     \u001b[38;5;66;03m# the function to delegate validation to the estimator, but we replace\u001b[39;00m\n\u001b[0;32m    217\u001b[0m     \u001b[38;5;66;03m# the name of the estimator by the name of the function in the error\u001b[39;00m\n\u001b[0;32m    218\u001b[0m     \u001b[38;5;66;03m# message to avoid confusion.\u001b[39;00m\n\u001b[0;32m    219\u001b[0m     msg \u001b[38;5;241m=\u001b[39m re\u001b[38;5;241m.\u001b[39msub(\n\u001b[0;32m    220\u001b[0m         \u001b[38;5;124mr\u001b[39m\u001b[38;5;124m\"\u001b[39m\u001b[38;5;124mparameter of \u001b[39m\u001b[38;5;124m\\\u001b[39m\u001b[38;5;124mw+ must be\u001b[39m\u001b[38;5;124m\"\u001b[39m,\n\u001b[0;32m    221\u001b[0m         \u001b[38;5;124mf\u001b[39m\u001b[38;5;124m\"\u001b[39m\u001b[38;5;124mparameter of \u001b[39m\u001b[38;5;132;01m{\u001b[39;00mfunc\u001b[38;5;241m.\u001b[39m\u001b[38;5;18m__qualname__\u001b[39m\u001b[38;5;132;01m}\u001b[39;00m\u001b[38;5;124m must be\u001b[39m\u001b[38;5;124m\"\u001b[39m,\n\u001b[0;32m    222\u001b[0m         \u001b[38;5;28mstr\u001b[39m(e),\n\u001b[0;32m    223\u001b[0m     )\n",
      "File \u001b[1;32m~\\AppData\\Local\\Programs\\Python\\Python311\\Lib\\site-packages\\sklearn\\metrics\\_classification.py:2612\u001b[0m, in \u001b[0;36mclassification_report\u001b[1;34m(y_true, y_pred, labels, target_names, sample_weight, digits, output_dict, zero_division)\u001b[0m\n\u001b[0;32m   2477\u001b[0m \u001b[38;5;129m@validate_params\u001b[39m(\n\u001b[0;32m   2478\u001b[0m     {\n\u001b[0;32m   2479\u001b[0m         \u001b[38;5;124m\"\u001b[39m\u001b[38;5;124my_true\u001b[39m\u001b[38;5;124m\"\u001b[39m: [\u001b[38;5;124m\"\u001b[39m\u001b[38;5;124marray-like\u001b[39m\u001b[38;5;124m\"\u001b[39m, \u001b[38;5;124m\"\u001b[39m\u001b[38;5;124msparse matrix\u001b[39m\u001b[38;5;124m\"\u001b[39m],\n\u001b[1;32m   (...)\u001b[0m\n\u001b[0;32m   2503\u001b[0m     zero_division\u001b[38;5;241m=\u001b[39m\u001b[38;5;124m\"\u001b[39m\u001b[38;5;124mwarn\u001b[39m\u001b[38;5;124m\"\u001b[39m,\n\u001b[0;32m   2504\u001b[0m ):\n\u001b[0;32m   2505\u001b[0m \u001b[38;5;250m    \u001b[39m\u001b[38;5;124;03m\"\"\"Build a text report showing the main classification metrics.\u001b[39;00m\n\u001b[0;32m   2506\u001b[0m \n\u001b[0;32m   2507\u001b[0m \u001b[38;5;124;03m    Read more in the :ref:`User Guide <classification_report>`.\u001b[39;00m\n\u001b[1;32m   (...)\u001b[0m\n\u001b[0;32m   2609\u001b[0m \u001b[38;5;124;03m    <BLANKLINE>\u001b[39;00m\n\u001b[0;32m   2610\u001b[0m \u001b[38;5;124;03m    \"\"\"\u001b[39;00m\n\u001b[1;32m-> 2612\u001b[0m     y_type, y_true, y_pred \u001b[38;5;241m=\u001b[39m \u001b[43m_check_targets\u001b[49m\u001b[43m(\u001b[49m\u001b[43my_true\u001b[49m\u001b[43m,\u001b[49m\u001b[43m \u001b[49m\u001b[43my_pred\u001b[49m\u001b[43m)\u001b[49m\n\u001b[0;32m   2614\u001b[0m     \u001b[38;5;28;01mif\u001b[39;00m labels \u001b[38;5;129;01mis\u001b[39;00m \u001b[38;5;28;01mNone\u001b[39;00m:\n\u001b[0;32m   2615\u001b[0m         labels \u001b[38;5;241m=\u001b[39m unique_labels(y_true, y_pred)\n",
      "File \u001b[1;32m~\\AppData\\Local\\Programs\\Python\\Python311\\Lib\\site-packages\\sklearn\\metrics\\_classification.py:108\u001b[0m, in \u001b[0;36m_check_targets\u001b[1;34m(y_true, y_pred)\u001b[0m\n\u001b[0;32m    105\u001b[0m     y_type \u001b[38;5;241m=\u001b[39m {\u001b[38;5;124m\"\u001b[39m\u001b[38;5;124mmulticlass\u001b[39m\u001b[38;5;124m\"\u001b[39m}\n\u001b[0;32m    107\u001b[0m \u001b[38;5;28;01mif\u001b[39;00m \u001b[38;5;28mlen\u001b[39m(y_type) \u001b[38;5;241m>\u001b[39m \u001b[38;5;241m1\u001b[39m:\n\u001b[1;32m--> 108\u001b[0m     \u001b[38;5;28;01mraise\u001b[39;00m \u001b[38;5;167;01mValueError\u001b[39;00m(\n\u001b[0;32m    109\u001b[0m         \u001b[38;5;124m\"\u001b[39m\u001b[38;5;124mClassification metrics can\u001b[39m\u001b[38;5;124m'\u001b[39m\u001b[38;5;124mt handle a mix of \u001b[39m\u001b[38;5;132;01m{0}\u001b[39;00m\u001b[38;5;124m and \u001b[39m\u001b[38;5;132;01m{1}\u001b[39;00m\u001b[38;5;124m targets\u001b[39m\u001b[38;5;124m\"\u001b[39m\u001b[38;5;241m.\u001b[39mformat(\n\u001b[0;32m    110\u001b[0m             type_true, type_pred\n\u001b[0;32m    111\u001b[0m         )\n\u001b[0;32m    112\u001b[0m     )\n\u001b[0;32m    114\u001b[0m \u001b[38;5;66;03m# We can't have more than one value on y_type => The set is no more needed\u001b[39;00m\n\u001b[0;32m    115\u001b[0m y_type \u001b[38;5;241m=\u001b[39m y_type\u001b[38;5;241m.\u001b[39mpop()\n",
      "\u001b[1;31mValueError\u001b[0m: Classification metrics can't handle a mix of multilabel-indicator and binary targets"
     ]
    }
   ],
   "source": [
    "from sklearn.metrics import classification_report\n",
    "from sklearn.metrics import ConfusionMatrixDisplay\n",
    "\n",
    "classification_report(y_test, np.argmax(model.predict(X_test), axis=1), output_dict=True)"
   ]
  }
 ],
 "metadata": {
  "kernelspec": {
   "display_name": "Python 3 (ipykernel)",
   "language": "python",
   "name": "python3"
  },
  "language_info": {
   "codemirror_mode": {
    "name": "ipython",
    "version": 3
   },
   "file_extension": ".py",
   "mimetype": "text/x-python",
   "name": "python",
   "nbconvert_exporter": "python",
   "pygments_lexer": "ipython3",
   "version": "3.11.0"
  }
 },
 "nbformat": 4,
 "nbformat_minor": 5
}
