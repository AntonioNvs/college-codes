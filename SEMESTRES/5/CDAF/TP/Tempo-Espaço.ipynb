{
 "cells": [
  {
   "cell_type": "code",
   "execution_count": 1,
   "id": "1a972a73-5d56-4ccf-81d4-0ebedd7299f6",
   "metadata": {},
   "outputs": [],
   "source": [
    "import numpy as np\n",
    "import pandas as pd\n",
    "import matplotlib.pyplot as plt"
   ]
  },
  {
   "cell_type": "code",
   "execution_count": 2,
   "id": "600438e4-d97d-4035-a714-c46c35bbc193",
   "metadata": {},
   "outputs": [],
   "source": [
    "df = pd.read_csv(\"interception_events_old.csv\", index_col=0)"
   ]
  },
  {
   "cell_type": "code",
   "execution_count": 3,
   "id": "f069c9e3-89d0-4c2f-88eb-3661e34b1291",
   "metadata": {},
   "outputs": [],
   "source": [
    "df_sel = df.dropna(subset=[f\"{i}_x\" for i in range(22)] + [\"target_player\"])"
   ]
  },
  {
   "cell_type": "markdown",
   "id": "96a98908-8f22-4b1d-9f90-dc578cb24263",
   "metadata": {},
   "source": [
    "## Definindo parâmetros"
   ]
  },
  {
   "cell_type": "code",
   "execution_count": 4,
   "id": "99eb6a8e-87aa-4518-b683-fa7299f4148c",
   "metadata": {},
   "outputs": [
    {
     "name": "stderr",
     "output_type": "stream",
     "text": [
      "C:\\Users\\tonim\\AppData\\Local\\Temp\\ipykernel_7828\\2100708124.py:17: SettingWithCopyWarning: \n",
      "A value is trying to be set on a copy of a slice from a DataFrame.\n",
      "Try using .loc[row_indexer,col_indexer] = value instead\n",
      "\n",
      "See the caveats in the documentation: https://pandas.pydata.org/pandas-docs/stable/user_guide/indexing.html#returning-a-view-versus-a-copy\n",
      "  df_sel.loc[:, \"receptor_x\"] = np.array(recep_x)\n",
      "C:\\Users\\tonim\\AppData\\Local\\Temp\\ipykernel_7828\\2100708124.py:18: SettingWithCopyWarning: \n",
      "A value is trying to be set on a copy of a slice from a DataFrame.\n",
      "Try using .loc[row_indexer,col_indexer] = value instead\n",
      "\n",
      "See the caveats in the documentation: https://pandas.pydata.org/pandas-docs/stable/user_guide/indexing.html#returning-a-view-versus-a-copy\n",
      "  df_sel.loc[:, \"receptor_y\"] = np.array(recep_y)\n"
     ]
    }
   ],
   "source": [
    "recep_x = []\n",
    "recep_y = []\n",
    "\n",
    "players_id = [f\"{i}_player_id\" for i in range(22)]\n",
    "\n",
    "for i, row in df_sel.iterrows():\n",
    "    for c in players_id:\n",
    "        if row[c] == row[\"target_player\"]:\n",
    "            i = c.split(\"_\")[0]\n",
    "            recep_x.append(row[f\"{i}_x\"])\n",
    "            recep_y.append(row[f\"{i}_y\"])\n",
    "            break\n",
    "    else:\n",
    "        recep_x.append(np.nan)\n",
    "        recep_y.append(np.nan)\n",
    "\n",
    "df_sel.loc[:, \"receptor_x\"] = np.array(recep_x)\n",
    "df_sel.loc[:, \"receptor_y\"] = np.array(recep_y)\n",
    "\n",
    "df_sel = df_sel.dropna(subset=[\"receptor_x\"])"
   ]
  },
  {
   "cell_type": "code",
   "execution_count": 5,
   "id": "9e693333-9216-44e1-aabc-f59b3302009b",
   "metadata": {},
   "outputs": [
    {
     "name": "stderr",
     "output_type": "stream",
     "text": [
      "C:\\Users\\tonim\\AppData\\Local\\Temp\\ipykernel_7828\\796227054.py:13: RuntimeWarning: invalid value encountered in scalar divide\n",
      "  t = np.dot(ap, ab) / np.dot(ab, ab)\n",
      "C:\\Users\\tonim\\AppData\\Local\\Temp\\ipykernel_7828\\796227054.py:13: RuntimeWarning: invalid value encountered in scalar divide\n",
      "  t = np.dot(ap, ab) / np.dot(ab, ab)\n",
      "C:\\Users\\tonim\\AppData\\Local\\Temp\\ipykernel_7828\\796227054.py:13: RuntimeWarning: invalid value encountered in scalar divide\n",
      "  t = np.dot(ap, ab) / np.dot(ab, ab)\n",
      "C:\\Users\\tonim\\AppData\\Local\\Temp\\ipykernel_7828\\796227054.py:13: RuntimeWarning: invalid value encountered in scalar divide\n",
      "  t = np.dot(ap, ab) / np.dot(ab, ab)\n",
      "C:\\Users\\tonim\\AppData\\Local\\Temp\\ipykernel_7828\\796227054.py:13: RuntimeWarning: invalid value encountered in scalar divide\n",
      "  t = np.dot(ap, ab) / np.dot(ab, ab)\n",
      "C:\\Users\\tonim\\AppData\\Local\\Temp\\ipykernel_7828\\796227054.py:13: RuntimeWarning: invalid value encountered in scalar divide\n",
      "  t = np.dot(ap, ab) / np.dot(ab, ab)\n",
      "C:\\Users\\tonim\\AppData\\Local\\Temp\\ipykernel_7828\\796227054.py:13: RuntimeWarning: invalid value encountered in scalar divide\n",
      "  t = np.dot(ap, ab) / np.dot(ab, ab)\n",
      "C:\\Users\\tonim\\AppData\\Local\\Temp\\ipykernel_7828\\796227054.py:13: RuntimeWarning: invalid value encountered in scalar divide\n",
      "  t = np.dot(ap, ab) / np.dot(ab, ab)\n",
      "C:\\Users\\tonim\\AppData\\Local\\Temp\\ipykernel_7828\\796227054.py:13: RuntimeWarning: invalid value encountered in scalar divide\n",
      "  t = np.dot(ap, ab) / np.dot(ab, ab)\n",
      "C:\\Users\\tonim\\AppData\\Local\\Temp\\ipykernel_7828\\796227054.py:13: RuntimeWarning: invalid value encountered in scalar divide\n",
      "  t = np.dot(ap, ab) / np.dot(ab, ab)\n",
      "C:\\Users\\tonim\\AppData\\Local\\Temp\\ipykernel_7828\\796227054.py:13: RuntimeWarning: invalid value encountered in scalar divide\n",
      "  t = np.dot(ap, ab) / np.dot(ab, ab)\n",
      "C:\\Users\\tonim\\AppData\\Local\\Temp\\ipykernel_7828\\796227054.py:13: RuntimeWarning: invalid value encountered in scalar divide\n",
      "  t = np.dot(ap, ab) / np.dot(ab, ab)\n",
      "C:\\Users\\tonim\\AppData\\Local\\Temp\\ipykernel_7828\\796227054.py:13: RuntimeWarning: invalid value encountered in scalar divide\n",
      "  t = np.dot(ap, ab) / np.dot(ab, ab)\n",
      "C:\\Users\\tonim\\AppData\\Local\\Temp\\ipykernel_7828\\796227054.py:13: RuntimeWarning: invalid value encountered in scalar divide\n",
      "  t = np.dot(ap, ab) / np.dot(ab, ab)\n",
      "C:\\Users\\tonim\\AppData\\Local\\Temp\\ipykernel_7828\\796227054.py:13: RuntimeWarning: invalid value encountered in scalar divide\n",
      "  t = np.dot(ap, ab) / np.dot(ab, ab)\n",
      "C:\\Users\\tonim\\AppData\\Local\\Temp\\ipykernel_7828\\796227054.py:13: RuntimeWarning: invalid value encountered in scalar divide\n",
      "  t = np.dot(ap, ab) / np.dot(ab, ab)\n",
      "C:\\Users\\tonim\\AppData\\Local\\Temp\\ipykernel_7828\\796227054.py:13: RuntimeWarning: invalid value encountered in scalar divide\n",
      "  t = np.dot(ap, ab) / np.dot(ab, ab)\n",
      "C:\\Users\\tonim\\AppData\\Local\\Temp\\ipykernel_7828\\796227054.py:13: RuntimeWarning: invalid value encountered in scalar divide\n",
      "  t = np.dot(ap, ab) / np.dot(ab, ab)\n",
      "C:\\Users\\tonim\\AppData\\Local\\Temp\\ipykernel_7828\\796227054.py:13: RuntimeWarning: invalid value encountered in scalar divide\n",
      "  t = np.dot(ap, ab) / np.dot(ab, ab)\n",
      "C:\\Users\\tonim\\AppData\\Local\\Temp\\ipykernel_7828\\796227054.py:13: RuntimeWarning: invalid value encountered in scalar divide\n",
      "  t = np.dot(ap, ab) / np.dot(ab, ab)\n",
      "C:\\Users\\tonim\\AppData\\Local\\Temp\\ipykernel_7828\\796227054.py:13: RuntimeWarning: invalid value encountered in scalar divide\n",
      "  t = np.dot(ap, ab) / np.dot(ab, ab)\n",
      "C:\\Users\\tonim\\AppData\\Local\\Temp\\ipykernel_7828\\796227054.py:13: RuntimeWarning: invalid value encountered in scalar divide\n",
      "  t = np.dot(ap, ab) / np.dot(ab, ab)\n"
     ]
    }
   ],
   "source": [
    "A = df_sel[[\"ball_x\", \"ball_y\"]].values\n",
    "B = df_sel[[\"receptor_x\", \"receptor_y\"]].values\n",
    "\n",
    "for k in range(22):\n",
    "    projector = []\n",
    "    P = df_sel[[f\"{k}_x\", f\"{k}_y\"]].values\n",
    "    \n",
    "    for i in range(len(A)):\n",
    "        a, b, p = A[i], B[i], P[i]\n",
    "        ab = b - a\n",
    "        ap = p - a\n",
    "        \n",
    "        t = np.dot(ap, ab) / np.dot(ab, ab)\n",
    "        projector.append(a + t*ab)\n",
    "\n",
    "    projector = np.array(projector)\n",
    "    df_sel[f\"{k}_projection_x\"] = projector[:, 0]\n",
    "    df_sel[f\"{k}_projection_y\"] = projector[:, 1]"
   ]
  },
  {
   "cell_type": "code",
   "execution_count": 6,
   "id": "34d0cadc-5f38-4777-b18a-08e91983d767",
   "metadata": {},
   "outputs": [],
   "source": [
    "df_sel = df_sel.dropna(subset=[f\"{i}_projection_x\" for i in range(22)])"
   ]
  },
  {
   "cell_type": "code",
   "execution_count": 23,
   "id": "310a0053-119e-4221-bf36-2746a057ed46",
   "metadata": {},
   "outputs": [],
   "source": [
    "def calculate_time_for_ball_reach_point(A, B, Q, P):\n",
    "    xi, yi = A\n",
    "    xf, yf = B\n",
    "    xp, yp = Q\n",
    "\n",
    "    d = np.linalg.norm(Q)\n",
    "    v = 15\n",
    "    t = d / v\n",
    "    \n",
    "    if np.linalg.norm(Q-P) > 3*t: \n",
    "        return -1\n",
    "    return t"
   ]
  },
  {
   "cell_type": "code",
   "execution_count": 19,
   "id": "bad4928b-de30-423f-905f-961f36b7ed31",
   "metadata": {},
   "outputs": [],
   "source": [
    "def new_position_for_player(p, q, v, t):\n",
    "    REACTION_TIME = 0.7\n",
    "    VELOCITY = 3\n",
    "    EPLISON = 10e-8\n",
    "    \n",
    "    if t <= REACTION_TIME: return p\n",
    "\n",
    "    pv = q - p\n",
    "\n",
    "    if np.linalg.norm(pv) * np.linalg.norm(v) < EPLISON:\n",
    "        cos_theta = 0\n",
    "    else:\n",
    "        cos_theta = np.dot(pv, v) / (np.linalg.norm(pv) * np.linalg.norm(v))\n",
    "        \n",
    "    alpha = np.degrees(np.arccos(cos_theta))\n",
    "    \n",
    "    if alpha == np.nan: alpha = 0\n",
    "    \n",
    "    punition_time = alpha / 120\n",
    "\n",
    "    new_t = t - punition_time - REACTION_TIME\n",
    "\n",
    "    if new_t < 0: return p\n",
    "\n",
    "    direction = pv / (np.linalg.norm(pv) + EPLISON)\n",
    "\n",
    "    new_pos = p + direction * VELOCITY * new_t\n",
    "\n",
    "    if (q[0] > p[0] and new_pos[0] > q[0]) or (p[0] > q[0] and new_pos[0] < q[0]):\n",
    "        return q\n",
    "    return new_pos"
   ]
  },
  {
   "cell_type": "code",
   "execution_count": 25,
   "id": "2bab34be-70b4-44cd-a5de-ce0d99e7d685",
   "metadata": {},
   "outputs": [],
   "source": [
    "A = df_sel[[\"ball_x\", \"ball_y\"]].values\n",
    "B = df_sel[[\"receptor_x\", \"receptor_y\"]].values\n",
    "\n",
    "for k in range(22):\n",
    "    P = df_sel[[f\"{k}_x\", f\"{k}_y\"]].values\n",
    "    Q = df_sel[[f\"{k}_projection_x\", f\"{k}_projection_y\"]].values\n",
    "    V = df_sel[[f\"{k}_vx\", f\"{k}_vy\"]].values\n",
    "    \n",
    "    new_pos = []\n",
    "    for i in range(len(P)):\n",
    "        time = calculate_time_for_ball_reach_point(A[i], B[i], Q[i], P[i])\n",
    "    \n",
    "        if time < 0: new_pos.append(P[i])\n",
    "        else:\n",
    "            new_pos.append(new_position_for_player(P[i], Q[i], V[i], time))\n",
    "\n",
    "    new_pos = np.array(new_pos)\n",
    "    df_sel[f\"{k}_new_x\"] = new_pos[:, 0]\n",
    "    df_sel[f\"{k}_new_y\"] = new_pos[:, 1]"
   ]
  },
  {
   "cell_type": "code",
   "execution_count": 26,
   "id": "a90a93a5-9766-4b3d-84ee-290790634856",
   "metadata": {},
   "outputs": [],
   "source": [
    "df_sel = df_sel.dropna(subset=[f\"{i}_new_x\" for i in range(22)])"
   ]
  },
  {
   "cell_type": "code",
   "execution_count": 27,
   "id": "b1f56c52-fa6c-4bde-b019-1c9a40ea918b",
   "metadata": {},
   "outputs": [
    {
     "data": {
      "image/png": "[encoded data removed]",
      "text/plain": [
       "<Figure size 1200x1200 with 2 Axes>"
      ]
     },
     "metadata": {},
     "output_type": "display_data"
    }
   ],
   "source": [
    "import matplotsoccer\n",
    "\n",
    "fig, ax = plt.subplots(2, 1, figsize=(12, 12))\n",
    "\n",
    "row = df_sel.loc[4, :]\n",
    "\n",
    "xi_home = row[[f\"{i}_x\" for i in range(11)]] + 52.5\n",
    "yi_home = row[[f\"{i}_y\" for i in range(11)]] + 34\n",
    "xi_away = row[[f\"{i}_x\" for i in range(11, 22)]] + 52.5\n",
    "yi_away = row[[f\"{i}_y\" for i in range(11, 22)]] + 34\n",
    "\n",
    "xn_home = row[[f\"{i}_new_x\" for i in range(11)]] + 52.5\n",
    "yn_home = row[[f\"{i}_new_y\" for i in range(11)]] + 34\n",
    "xn_away = row[[f\"{i}_new_x\" for i in range(11, 22)]] + 52.5\n",
    "yn_away = row[[f\"{i}_new_y\" for i in range(11, 22)]] + 34\n",
    "\n",
    "matplotsoccer.field(show=False, ax=ax[0])\n",
    "ax[0].scatter(xi_home, yi_home, label=row[\"home_ball\"])\n",
    "ax[0].scatter(xi_away, yi_away)\n",
    "ax[0].scatter((row[\"ball_x\"] + 52.5), (row[\"ball_y\"] + 34), label=\"ball\")\n",
    "ax[0].scatter((row[\"receptor_x\"] + 52.5), (row[\"receptor_y\"] + 34), label=\"receptor\")\n",
    "\n",
    "matplotsoccer.field(show=False, ax=ax[1])\n",
    "ax[1].scatter(xn_home, yn_home)\n",
    "ax[1].scatter(xn_away, yn_away)\n",
    "ax[1].scatter((row[\"ball_x\"] + 52.5), (row[\"ball_y\"] + 34), label=\"ball\")\n",
    "ax[1].scatter((row[\"receptor_x\"] + 52.5), (row[\"receptor_y\"] + 34), label=\"receptor\")\n",
    "\n",
    "ax[0].legend()\n",
    "ax[0].axis(\"off\")\n",
    "\n",
    "ax[1].legend()\n",
    "ax[1].axis(\"off\")\n",
    "\n",
    "plt.show()"
   ]
  },
  {
   "cell_type": "markdown",
   "id": "b98c552a-63ac-477f-881e-fa0149e7ae09",
   "metadata": {},
   "source": [
    "## Testes"
   ]
  },
  {
   "cell_type": "code",
   "execution_count": 18,
   "id": "b14803bd-f7d1-4d4b-8a35-d7bac91a7173",
   "metadata": {},
   "outputs": [
    {
     "data": {
      "text/plain": [
       "pass_outcome_type    C\n",
       "Name: 4, dtype: object"
      ]
     },
     "execution_count": 18,
     "metadata": {},
     "output_type": "execute_result"
    }
   ],
   "source": [
    "df_sel.loc[4, [\"pass_outcome_type\"]]"
   ]
  },
  {
   "cell_type": "code",
   "execution_count": 78,
   "id": "d2ac67c3-83fb-4249-a488-41f1123918d8",
   "metadata": {},
   "outputs": [
    {
     "name": "stdout",
     "output_type": "stream",
     "text": [
      "3.0691684579780962\n"
     ]
    },
    {
     "data": {
      "text/plain": [
       "array([13.44, -11.526], dtype=object)"
      ]
     },
     "execution_count": 78,
     "metadata": {},
     "output_type": "execute_result"
    }
   ],
   "source": [
    "P = df_sel.loc[2, [\"16_new_x\", \"16_new_y\"]].values\n",
    "V = df_sel.loc[2, [\"16_vx\", \"16_vy\"]].values\n",
    "Q = df_sel.loc[2, [\"16_projection_x\", \"16_projection_y\"]].values\n",
    "\n",
    "ball = df_sel.loc[2, [\"ball_x\", \"ball_y\"]].values\n",
    "receptor = df_sel.loc[2, [\"receptor_x\", \"receptor_y\"]].values\n",
    "\n",
    "new_position_for_player(P, Q, V, calculate_time_for_ball_reach_point(ball, receptor, Q, P))"
   ]
  },
  {
   "cell_type": "markdown",
   "id": "d1cfe898-728a-4d9b-a630-4fffcf476606",
   "metadata": {},
   "source": [
    "## Salvando"
   ]
  },
  {
   "cell_type": "code",
   "execution_count": 126,
   "id": "ef67bf0f-b871-40d5-b6ab-61680ed0e5e7",
   "metadata": {},
   "outputs": [],
   "source": [
    "new_df = df_sel.copy()\n",
    "\n",
    "new_df = new_df.drop([f\"{i}_x\" for i in range(22)] + [f\"{i}_y\" for i in range(22)], axis=1)\n",
    "\n",
    "new_df = new_df.rename(columns={\n",
    "    **{f\"{i}_new_x\": f\"{i}_x\" for i in range(22)},\n",
    "    **{f\"{i}_new_y\": f\"{i}_y\" for i in range(22)},\n",
    "})"
   ]
  },
  {
   "cell_type": "code",
   "execution_count": 127,
   "id": "bfda187f-9bd8-4e3c-b1f3-b15af4cf6f46",
   "metadata": {},
   "outputs": [],
   "source": [
    "df_to_save = new_df.drop( \n",
    "    [f\"{i}_projection_x\" for i in range(22)] + [f\"{i}_projection_y\" for i in range(22)], \n",
    "    axis=1\n",
    ")"
   ]
  },
  {
   "cell_type": "code",
   "execution_count": 129,
   "id": "2665b831-367c-471c-b26e-433af172de41",
   "metadata": {},
   "outputs": [],
   "source": [
    "df_to_save.to_csv(\"interception_temporal_events.csv\")"
   ]
  }
 ],
 "metadata": {
  "kernelspec": {
   "display_name": "Python 3 (ipykernel)",
   "language": "python",
   "name": "python3"
  },
  "language_info": {
   "codemirror_mode": {
    "name": "ipython",
    "version": 3
   },
   "file_extension": ".py",
   "mimetype": "text/x-python",
   "name": "python",
   "nbconvert_exporter": "python",
   "pygments_lexer": "ipython3",
   "version": "3.11.0"
  }
 },
 "nbformat": 4,
 "nbformat_minor": 5
}
