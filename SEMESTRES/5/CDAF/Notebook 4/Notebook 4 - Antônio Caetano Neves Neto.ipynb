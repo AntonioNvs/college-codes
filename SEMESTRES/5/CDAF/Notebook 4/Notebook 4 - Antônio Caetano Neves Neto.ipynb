{
 "cells": [
  {
   "cell_type": "markdown",
   "metadata": {},
   "source": [
    "# [CDAF] Atividade 4"
   ]
  },
  {
   "cell_type": "markdown",
   "metadata": {},
   "source": [
    "## Nome e matrícula\n",
    "Nome: Antônio Caetano Neves Neto\n",
    "\n",
    "Matrícula: 2022043698"
   ]
  },
  {
   "cell_type": "markdown",
   "metadata": {},
   "source": [
    "## Referências\n",
    "- [1] https://scikit-learn.org/stable/modules/generated/sklearn.linear_model.LogisticRegression.html\n",
    "- [2] https://socceraction.readthedocs.io/en/latest/api/generated/socceraction.xthreat.ExpectedThreat.html#socceraction.xthreat.ExpectedThreat\n",
    "- [3] https://socceraction.readthedocs.io/en/latest/api/generated/socceraction.xthreat.get_successful_move_actions.html#socceraction.xthreat.get_successful_move_actions\n",
    "- [4] https://socceraction.readthedocs.io/en/latest/documentation/valuing_actions/xT.html"
   ]
  },
  {
   "cell_type": "code",
   "execution_count": 1,
   "metadata": {},
   "outputs": [],
   "source": [
    "# Importando bibliotecas\n",
    "from tqdm import tqdm\n",
    "import numpy as np\n",
    "import pandas as pd\n",
    "import socceraction.spadl as spd\n",
    "from socceraction import xthreat as xt"
   ]
  },
  {
   "cell_type": "markdown",
   "metadata": {},
   "source": [
    "### LaLiga  p/ SPADL com pré-processamentos"
   ]
  },
  {
   "cell_type": "code",
   "execution_count": 2,
   "metadata": {},
   "outputs": [],
   "source": [
    "# carregando os eventos\n",
    "path =\"events_Spain.json\"\n",
    "events = pd.read_json(path_or_buf=path)"
   ]
  },
  {
   "cell_type": "code",
   "execution_count": 3,
   "metadata": {},
   "outputs": [
    {
     "name": "stderr",
     "output_type": "stream",
     "text": [
      "C:\\Users\\tonim\\AppData\\Local\\Temp\\ipykernel_23704\\3735303047.py:5: FutureWarning: Downcasting behavior in `replace` is deprecated and will be removed in a future version. To retain the old behavior, explicitly call `result.infer_objects(copy=False)`. To opt-in to the future behavior, set `pd.set_option('future.no_silent_downcasting', True)`\n",
      "  events['period_id'] = events['matchPeriod'].replace({'1H': 1, '2H': 2})\n"
     ]
    }
   ],
   "source": [
    "# pré processamento em colunas da tabela de eventos para facilitar a conversão p/ SPADL\n",
    "events = events.rename(columns={'id': 'event_id', 'eventId': 'type_id', 'subEventId': 'subtype_id',\n",
    "                                'teamId': 'team_id', 'playerId': 'player_id', 'matchId': 'game_id'})\n",
    "events['milliseconds'] = events['eventSec'] * 1000\n",
    "events['period_id'] = events['matchPeriod'].replace({'1H': 1, '2H': 2})"
   ]
  },
  {
   "cell_type": "code",
   "execution_count": 4,
   "metadata": {},
   "outputs": [],
   "source": [
    "# carregando as partidas, pois vamos saber quais times jogam em casa e fora p/ usar como parametro do SPADL\n",
    "path = \"matches_Spain.json\"\n",
    "matches = pd.read_json(path_or_buf=path)"
   ]
  },
  {
   "cell_type": "code",
   "execution_count": 6,
   "metadata": {},
   "outputs": [
    {
     "name": "stderr",
     "output_type": "stream",
     "text": [
      "100%|███████████████████████████████████████████████████████████████████████████████| 380/380 [00:00<00:00, 719.33it/s]\n"
     ]
    }
   ],
   "source": [
    "# as informações dos times de cada partida estão em um dicionário dentro da coluna 'teamsData', então vamos separar essas informações\n",
    "team_matches = []\n",
    "for i in tqdm(range(len(matches))):\n",
    "    match = pd.DataFrame(matches.loc[i, 'teamsData']).T\n",
    "    match['matchId'] = matches.loc[i, 'wyId']\n",
    "    team_matches.append(match)\n",
    "team_matches = pd.concat(team_matches).reset_index(drop=True)"
   ]
  },
  {
   "cell_type": "code",
   "execution_count": 7,
   "metadata": {},
   "outputs": [
    {
     "name": "stderr",
     "output_type": "stream",
     "text": [
      "100%|████████████████████████████████████████████████████████████████████████████████| 380/380 [05:14<00:00,  1.21it/s]\n"
     ]
    }
   ],
   "source": [
    "# fazendo a conversão p/ SPADL, padronizando a direção de jogo da esquerda p/ a direita e adicionando os nomes dos tipos de ações\n",
    "spadl = []\n",
    "game_ids = events.game_id.unique().tolist()\n",
    "for g in tqdm(game_ids):\n",
    "    match_events = events.loc[events.game_id == g]\n",
    "    match_home_id = team_matches.loc[(team_matches.matchId == g) & (team_matches.side == 'home'), 'teamId'].values[0]\n",
    "    match_actions = spd.wyscout.convert_to_actions(events=match_events, home_team_id=match_home_id)\n",
    "    match_actions = spd.play_left_to_right(actions=match_actions, home_team_id=match_home_id)\n",
    "    match_actions = spd.add_names(match_actions)\n",
    "    spadl.append(match_actions)\n",
    "spadl = pd.concat(spadl).reset_index(drop=True)"
   ]
  },
  {
   "cell_type": "code",
   "execution_count": 8,
   "metadata": {},
   "outputs": [],
   "source": [
    "# adicionando o nome dos jogadores\n",
    "path = \"players.json\"\n",
    "players = pd.read_json(path_or_buf=path)\n",
    "players['player_name'] = players['firstName'] + ' ' + players['lastName']\n",
    "players = players[['wyId', 'player_name']].rename(columns={'wyId': 'player_id'})\n",
    "spadl = spadl.merge(players, on='player_id', how='left')"
   ]
  },
  {
   "cell_type": "markdown",
   "metadata": {},
   "source": [
    "## Questão 1\n",
    "- Crie um dataframe \"shots\" à partir do dataframe \"spadl\", contendo apenas os chutes.\n",
    "- Crie 4 colunas no dataframe \"shots\" a serem usadas como features de um modelo de xG.\n",
    "- Justifique a escolha das features."
   ]
  },
  {
   "cell_type": "code",
   "execution_count": 27,
   "metadata": {},
   "outputs": [],
   "source": [
    "shots = spadl.query(\"type_name == 'shot'\")"
   ]
  },
  {
   "cell_type": "code",
   "execution_count": 35,
   "metadata": {},
   "outputs": [],
   "source": [
    "# Distância ao centro do gol\n",
    "# Campo vai de (0, 105) a (0, 68), então o centro dos gols é (0, 34) e (105, 34)\n",
    "# É pego a distância mínima entre os dois gols para fins de facilitação (chutes antes do meio de campo são mais raros)\n",
    "\n",
    "distance_right = np.sqrt(((shots[\"start_x\"])**2 + (shots[\"start_y\"] - 34)**2))\n",
    "distance_left = np.sqrt(((shots[\"start_x\"] - 105)**2 + (shots[\"start_y\"] - 34)**2))\n",
    "\n",
    "distance_to_goal_center = pd.concat([distance_right, distance_left], axis=1).min(axis=1)"
   ]
  },
  {
   "cell_type": "code",
   "execution_count": 47,
   "metadata": {},
   "outputs": [],
   "source": [
    "# Ângulo ao centro do gol\n",
    "# Pega o gol mais próximo com justificativa igual antes\n",
    "distance_x = pd.concat([shots[\"start_x\"], 105-shots[\"start_x\"]], axis = 1).min(axis=1)\n",
    "distance_y = np.abs(shots[\"start_y\"] - 34)\n",
    "\n",
    "angles_to_goal_center = np.arctan(distance_y / distance_x) * 180 / np.pi"
   ]
  },
  {
   "cell_type": "code",
   "execution_count": 48,
   "metadata": {},
   "outputs": [],
   "source": [
    "# Parte do corpo usada para o chute\n",
    "bodypart = shots[\"bodypart_id\"]"
   ]
  },
  {
   "cell_type": "code",
   "execution_count": 66,
   "metadata": {},
   "outputs": [],
   "source": [
    "# Time da casa ou não\n",
    "\n",
    "# team_matches.set_index(\"matchId\", drop=True, inplace=True)\n",
    "\n",
    "home_or_away = []\n",
    "\n",
    "for i, row in shots.iterrows():\n",
    "    game_id = row[\"game_id\"]\n",
    "    team_id = row[\"team_id\"]\n",
    "\n",
    "    home_or_away.append(\n",
    "        team_matches.loc[game_id, [\"side\", \"teamId\"]].query(f\"teamId == {team_id}\").iloc[0][\"side\"] == \"home\"\n",
    "    )"
   ]
  },
  {
   "cell_type": "code",
   "execution_count": 102,
   "metadata": {},
   "outputs": [
    {
     "data": {
      "text/html": [
       "<div>\n",
       "<style scoped>\n",
       "    .dataframe tbody tr th:only-of-type {\n",
       "        vertical-align: middle;\n",
       "    }\n",
       "\n",
       "    .dataframe tbody tr th {\n",
       "        vertical-align: top;\n",
       "    }\n",
       "\n",
       "    .dataframe thead th {\n",
       "        text-align: right;\n",
       "    }\n",
       "</style>\n",
       "<table border=\"1\" class=\"dataframe\">\n",
       "  <thead>\n",
       "    <tr style=\"text-align: right;\">\n",
       "      <th></th>\n",
       "      <th>distance_to_goal</th>\n",
       "      <th>angle_to_goal</th>\n",
       "      <th>bodypart</th>\n",
       "      <th>home</th>\n",
       "    </tr>\n",
       "  </thead>\n",
       "  <tbody>\n",
       "    <tr>\n",
       "      <th>0</th>\n",
       "      <td>13.130000</td>\n",
       "      <td>55.958949</td>\n",
       "      <td>4</td>\n",
       "      <td>True</td>\n",
       "    </tr>\n",
       "    <tr>\n",
       "      <th>1</th>\n",
       "      <td>21.873601</td>\n",
       "      <td>16.247632</td>\n",
       "      <td>5</td>\n",
       "      <td>True</td>\n",
       "    </tr>\n",
       "    <tr>\n",
       "      <th>2</th>\n",
       "      <td>13.469135</td>\n",
       "      <td>20.695451</td>\n",
       "      <td>5</td>\n",
       "      <td>False</td>\n",
       "    </tr>\n",
       "    <tr>\n",
       "      <th>3</th>\n",
       "      <td>17.455569</td>\n",
       "      <td>38.557284</td>\n",
       "      <td>5</td>\n",
       "      <td>False</td>\n",
       "    </tr>\n",
       "    <tr>\n",
       "      <th>4</th>\n",
       "      <td>27.116462</td>\n",
       "      <td>14.523092</td>\n",
       "      <td>5</td>\n",
       "      <td>True</td>\n",
       "    </tr>\n",
       "  </tbody>\n",
       "</table>\n",
       "</div>"
      ],
      "text/plain": [
       "   distance_to_goal  angle_to_goal  bodypart   home\n",
       "0         13.130000      55.958949         4   True\n",
       "1         21.873601      16.247632         5   True\n",
       "2         13.469135      20.695451         5  False\n",
       "3         17.455569      38.557284         5  False\n",
       "4         27.116462      14.523092         5   True"
      ]
     },
     "execution_count": 102,
     "metadata": {},
     "output_type": "execute_result"
    }
   ],
   "source": [
    "features = pd.DataFrame({\n",
    "    \"distance_to_goal\": distance_to_goal_center.tolist(),\n",
    "    \"angle_to_goal\": angles_to_goal_center.tolist(),\n",
    "    \"bodypart\": bodypart.tolist(), \n",
    "    \"home\": home_or_away\n",
    "})\n",
    "features.head()"
   ]
  },
  {
   "cell_type": "markdown",
   "metadata": {},
   "source": [
    "**Foram escolhidas tais features devido a hipótese de terem alto impacto na decisão se um chute foi gol ou não. Foi visto em aula que distância ao gol e ângulo ao mesmo são duas boas métricas que podem ser consideradas, com modelos já consolidados a utilizando. Além disso, parte do corpo utilizada e se o time é da casa ou não pode impactar bastante.**"
   ]
  },
  {
   "cell_type": "markdown",
   "metadata": {},
   "source": [
    "## Questão 2\n",
    "- Crie uma coluna numérica binária \"goal\" no dataframe \"shots\" indicando se o chute resultou em gol ou não.\n",
    "- Use regressão logística [1] p/ treinar (.fit(X_train, y_train)) um modelo de xG usando as features criadas na questão 1.\n",
    "- Use 70% dos dados para treino e 30% para teste.\n",
    "- Reporte a acurácia do modelo para os conjuntos de treino (.score(X_train, y_train)) e teste (.score(X_test, y_test))."
   ]
  },
  {
   "cell_type": "code",
   "execution_count": 103,
   "metadata": {},
   "outputs": [
    {
     "name": "stderr",
     "output_type": "stream",
     "text": [
      "C:\\Users\\tonim\\AppData\\Local\\Temp\\ipykernel_10676\\116450023.py:1: FutureWarning: Setting an item of incompatible dtype is deprecated and will raise in a future error of pandas. Value '[0 0 0 ... 1 0 0]' has dtype incompatible with bool, please explicitly cast to a compatible dtype first.\n",
      "  shots.loc[:, \"goal\"] = (shots[\"result_name\"] == \"success\").astype(int)\n"
     ]
    }
   ],
   "source": [
    "shots.loc[:, \"goal\"] = (shots[\"result_name\"] == \"success\").astype(int)"
   ]
  },
  {
   "cell_type": "code",
   "execution_count": 104,
   "metadata": {},
   "outputs": [],
   "source": [
    "features[\"home\"] = features[\"home\"].astype(int)"
   ]
  },
  {
   "cell_type": "code",
   "execution_count": 105,
   "metadata": {},
   "outputs": [],
   "source": [
    "features = pd.concat([features, pd.get_dummies(features[\"bodypart\"]).astype(int)], axis=1).drop(\"bodypart\", axis=1)"
   ]
  },
  {
   "cell_type": "code",
   "execution_count": 106,
   "metadata": {},
   "outputs": [],
   "source": [
    "from sklearn.model_selection import train_test_split\n",
    "\n",
    "X = features.values\n",
    "y = shots[\"goal\"].values\n",
    "\n",
    "X_train, X_test, y_train, y_test = train_test_split(X, y, test_size=0.3, random_state=42)"
   ]
  },
  {
   "cell_type": "code",
   "execution_count": 107,
   "metadata": {},
   "outputs": [],
   "source": [
    "from sklearn.linear_model import LogisticRegression\n",
    "\n",
    "clf = LogisticRegression(random_state=42).fit(X_train, y_train)"
   ]
  },
  {
   "cell_type": "code",
   "execution_count": 111,
   "metadata": {},
   "outputs": [
    {
     "name": "stdout",
     "output_type": "stream",
     "text": [
      "Acurácia de treino:"
     ]
    },
    {
     "data": {
      "text/plain": [
       "0.8950760966875559"
      ]
     },
     "execution_count": 111,
     "metadata": {},
     "output_type": "execute_result"
    }
   ],
   "source": [
    "print(\"Acurácia de treino:\", end=\"\")\n",
    "clf.score(X_train, y_train)"
   ]
  },
  {
   "cell_type": "code",
   "execution_count": 112,
   "metadata": {},
   "outputs": [
    {
     "name": "stdout",
     "output_type": "stream",
     "text": [
      "Acurácia de teste:"
     ]
    },
    {
     "data": {
      "text/plain": [
       "0.8880534670008354"
      ]
     },
     "execution_count": 112,
     "metadata": {},
     "output_type": "execute_result"
    }
   ],
   "source": [
    "print(\"Acurácia de teste:\", end=\"\")\n",
    "clf.score(X_test, y_test)"
   ]
  },
  {
   "cell_type": "markdown",
   "metadata": {},
   "source": [
    "## Questão 3\n",
    "- Use o modelo treinado na questão 2 p/ prever a probabilidade de gol de todos os chutes do dataframe \"shots\". Reporte essas probabilidades no dataframe \"shots\" em uma coluna \"xG\".\n",
    "- Agrupe o dataframe \"shots\" por \"player_name\" e reporte a soma dos \"goal\" e \"xG\".\n",
    "- Reporte os 10 jogadores com maior xG.\n",
    "- Reporte os 10 jogadores com maior diferença de Gols e xG."
   ]
  },
  {
   "cell_type": "code",
   "execution_count": 119,
   "metadata": {},
   "outputs": [],
   "source": [
    "shots.loc[:, \"xG\"] = clf.predict_proba(X)[:, 1]"
   ]
  },
  {
   "cell_type": "code",
   "execution_count": 128,
   "metadata": {},
   "outputs": [
    {
     "data": {
      "text/html": [
       "<div>\n",
       "<style scoped>\n",
       "    .dataframe tbody tr th:only-of-type {\n",
       "        vertical-align: middle;\n",
       "    }\n",
       "\n",
       "    .dataframe tbody tr th {\n",
       "        vertical-align: top;\n",
       "    }\n",
       "\n",
       "    .dataframe thead th {\n",
       "        text-align: right;\n",
       "    }\n",
       "</style>\n",
       "<table border=\"1\" class=\"dataframe\">\n",
       "  <thead>\n",
       "    <tr style=\"text-align: right;\">\n",
       "      <th></th>\n",
       "      <th></th>\n",
       "      <th>goal</th>\n",
       "      <th>xG</th>\n",
       "    </tr>\n",
       "    <tr>\n",
       "      <th>player_id</th>\n",
       "      <th>player_name</th>\n",
       "      <th></th>\n",
       "      <th></th>\n",
       "    </tr>\n",
       "  </thead>\n",
       "  <tbody>\n",
       "    <tr>\n",
       "      <th>151</th>\n",
       "      <th>John Guidetti</th>\n",
       "      <td>3</td>\n",
       "      <td>2.943029</td>\n",
       "    </tr>\n",
       "    <tr>\n",
       "      <th>254</th>\n",
       "      <th>Roberto Jos\\u00e9 Rosales Altuve</th>\n",
       "      <td>1</td>\n",
       "      <td>0.388475</td>\n",
       "    </tr>\n",
       "    <tr>\n",
       "      <th>786</th>\n",
       "      <th>R\\u00f3bert Maz\\u00e1\\u0148</th>\n",
       "      <td>0</td>\n",
       "      <td>0.017389</td>\n",
       "    </tr>\n",
       "    <tr>\n",
       "      <th>1751</th>\n",
       "      <th>Oussama Tannane</th>\n",
       "      <td>0</td>\n",
       "      <td>0.914941</td>\n",
       "    </tr>\n",
       "    <tr>\n",
       "      <th>3269</th>\n",
       "      <th>Jordi Alba Ramos</th>\n",
       "      <td>2</td>\n",
       "      <td>2.334879</td>\n",
       "    </tr>\n",
       "    <tr>\n",
       "      <th>...</th>\n",
       "      <th>...</th>\n",
       "      <td>...</td>\n",
       "      <td>...</td>\n",
       "    </tr>\n",
       "    <tr>\n",
       "      <th>485383</th>\n",
       "      <th>Alejandro Miguel Mula Sanchez</th>\n",
       "      <td>0</td>\n",
       "      <td>1.190133</td>\n",
       "    </tr>\n",
       "    <tr>\n",
       "      <th>489417</th>\n",
       "      <th>Erik Alexander Exp\\u00f3sito Hern\\u00e1ndez</th>\n",
       "      <td>1</td>\n",
       "      <td>1.084543</td>\n",
       "    </tr>\n",
       "    <tr>\n",
       "      <th>489488</th>\n",
       "      <th>Mart\\u00edn Aguirregabiria Padilla</th>\n",
       "      <td>0</td>\n",
       "      <td>0.158391</td>\n",
       "    </tr>\n",
       "    <tr>\n",
       "      <th>520163</th>\n",
       "      <th>Diego Hern\\u00e1ndez Barriuso</th>\n",
       "      <td>0</td>\n",
       "      <td>0.054822</td>\n",
       "    </tr>\n",
       "    <tr>\n",
       "      <th>545811</th>\n",
       "      <th>Hugo Duro Perales</th>\n",
       "      <td>0</td>\n",
       "      <td>0.070147</td>\n",
       "    </tr>\n",
       "  </tbody>\n",
       "</table>\n",
       "<p>454 rows × 2 columns</p>\n",
       "</div>"
      ],
      "text/plain": [
       "                                                       goal        xG\n",
       "player_id player_name                                                \n",
       "151       John Guidetti                                   3  2.943029\n",
       "254       Roberto Jos\\u00e9 Rosales Altuve                1  0.388475\n",
       "786       R\\u00f3bert Maz\\u00e1\\u0148                     0  0.017389\n",
       "1751      Oussama Tannane                                 0  0.914941\n",
       "3269      Jordi Alba Ramos                                2  2.334879\n",
       "...                                                     ...       ...\n",
       "485383    Alejandro Miguel Mula Sanchez                   0  1.190133\n",
       "489417    Erik Alexander Exp\\u00f3sito Hern\\u00e1ndez     1  1.084543\n",
       "489488    Mart\\u00edn Aguirregabiria Padilla              0  0.158391\n",
       "520163    Diego Hern\\u00e1ndez Barriuso                   0  0.054822\n",
       "545811    Hugo Duro Perales                               0  0.070147\n",
       "\n",
       "[454 rows x 2 columns]"
      ]
     },
     "execution_count": 128,
     "metadata": {},
     "output_type": "execute_result"
    }
   ],
   "source": [
    "group = shots.groupby([\"player_id\", \"player_name\"]).sum()[[\"goal\", \"xG\"]]\n",
    "group"
   ]
  },
  {
   "cell_type": "code",
   "execution_count": 132,
   "metadata": {},
   "outputs": [
    {
     "data": {
      "text/html": [
       "<div>\n",
       "<style scoped>\n",
       "    .dataframe tbody tr th:only-of-type {\n",
       "        vertical-align: middle;\n",
       "    }\n",
       "\n",
       "    .dataframe tbody tr th {\n",
       "        vertical-align: top;\n",
       "    }\n",
       "\n",
       "    .dataframe thead th {\n",
       "        text-align: right;\n",
       "    }\n",
       "</style>\n",
       "<table border=\"1\" class=\"dataframe\">\n",
       "  <thead>\n",
       "    <tr style=\"text-align: right;\">\n",
       "      <th></th>\n",
       "      <th></th>\n",
       "      <th>goal</th>\n",
       "      <th>xG</th>\n",
       "    </tr>\n",
       "    <tr>\n",
       "      <th>player_id</th>\n",
       "      <th>player_name</th>\n",
       "      <th></th>\n",
       "      <th></th>\n",
       "    </tr>\n",
       "  </thead>\n",
       "  <tbody>\n",
       "    <tr>\n",
       "      <th>3322</th>\n",
       "      <th>Cristiano Ronaldo dos Santos Aveiro</th>\n",
       "      <td>23</td>\n",
       "      <td>22.687072</td>\n",
       "    </tr>\n",
       "    <tr>\n",
       "      <th>7972</th>\n",
       "      <th>Luis Alberto Su\\u00e1rez D\\u00edaz</th>\n",
       "      <td>24</td>\n",
       "      <td>20.491104</td>\n",
       "    </tr>\n",
       "    <tr>\n",
       "      <th>3359</th>\n",
       "      <th>Lionel Andr\\u00e9s Messi Cuccittini</th>\n",
       "      <td>26</td>\n",
       "      <td>19.457147</td>\n",
       "    </tr>\n",
       "    <tr>\n",
       "      <th>5400</th>\n",
       "      <th>Gerard Moreno Balaguero</th>\n",
       "      <td>15</td>\n",
       "      <td>14.585830</td>\n",
       "    </tr>\n",
       "    <tr>\n",
       "      <th>3840</th>\n",
       "      <th>Iago Aspas Juncal</th>\n",
       "      <td>19</td>\n",
       "      <td>12.972127</td>\n",
       "    </tr>\n",
       "    <tr>\n",
       "      <th>395636</th>\n",
       "      <th>Maximiliano G\\u00f3mez Gonz\\u00e1lez</th>\n",
       "      <td>18</td>\n",
       "      <td>12.839050</td>\n",
       "    </tr>\n",
       "    <tr>\n",
       "      <th>3714</th>\n",
       "      <th>Cristhian Ricardo Stuani Curbelo</th>\n",
       "      <td>16</td>\n",
       "      <td>10.669898</td>\n",
       "    </tr>\n",
       "    <tr>\n",
       "      <th>3874</th>\n",
       "      <th>Enrique Garc\\u00eda Mart\\u00ednez</th>\n",
       "      <td>8</td>\n",
       "      <td>9.937946</td>\n",
       "    </tr>\n",
       "    <tr>\n",
       "      <th>70129</th>\n",
       "      <th>Rodrigo Moreno Machado</th>\n",
       "      <td>15</td>\n",
       "      <td>9.917692</td>\n",
       "    </tr>\n",
       "    <tr>\n",
       "      <th>37831</th>\n",
       "      <th>Carlos Arturo Bacca Ahumada</th>\n",
       "      <td>14</td>\n",
       "      <td>9.877114</td>\n",
       "    </tr>\n",
       "  </tbody>\n",
       "</table>\n",
       "</div>"
      ],
      "text/plain": [
       "                                                goal         xG\n",
       "player_id player_name                                          \n",
       "3322      Cristiano Ronaldo dos Santos Aveiro     23  22.687072\n",
       "7972      Luis Alberto Su\\u00e1rez D\\u00edaz      24  20.491104\n",
       "3359      Lionel Andr\\u00e9s Messi Cuccittini     26  19.457147\n",
       "5400      Gerard Moreno Balaguero                 15  14.585830\n",
       "3840      Iago Aspas Juncal                       19  12.972127\n",
       "395636    Maximiliano G\\u00f3mez Gonz\\u00e1lez    18  12.839050\n",
       "3714      Cristhian Ricardo Stuani Curbelo        16  10.669898\n",
       "3874      Enrique Garc\\u00eda Mart\\u00ednez        8   9.937946\n",
       "70129     Rodrigo Moreno Machado                  15   9.917692\n",
       "37831     Carlos Arturo Bacca Ahumada             14   9.877114"
      ]
     },
     "execution_count": 132,
     "metadata": {},
     "output_type": "execute_result"
    }
   ],
   "source": [
    "group.sort_values(by=\"xG\", ascending=False).head(10)"
   ]
  },
  {
   "cell_type": "code",
   "execution_count": 134,
   "metadata": {},
   "outputs": [
    {
     "data": {
      "text/html": [
       "<div>\n",
       "<style scoped>\n",
       "    .dataframe tbody tr th:only-of-type {\n",
       "        vertical-align: middle;\n",
       "    }\n",
       "\n",
       "    .dataframe tbody tr th {\n",
       "        vertical-align: top;\n",
       "    }\n",
       "\n",
       "    .dataframe thead th {\n",
       "        text-align: right;\n",
       "    }\n",
       "</style>\n",
       "<table border=\"1\" class=\"dataframe\">\n",
       "  <thead>\n",
       "    <tr style=\"text-align: right;\">\n",
       "      <th></th>\n",
       "      <th></th>\n",
       "      <th>goal</th>\n",
       "      <th>xG</th>\n",
       "      <th>diff</th>\n",
       "    </tr>\n",
       "    <tr>\n",
       "      <th>player_id</th>\n",
       "      <th>player_name</th>\n",
       "      <th></th>\n",
       "      <th></th>\n",
       "      <th></th>\n",
       "    </tr>\n",
       "  </thead>\n",
       "  <tbody>\n",
       "    <tr>\n",
       "      <th>3682</th>\n",
       "      <th>Antoine Griezmann</th>\n",
       "      <td>16</td>\n",
       "      <td>7.998916</td>\n",
       "      <td>8.001084</td>\n",
       "    </tr>\n",
       "    <tr>\n",
       "      <th>3359</th>\n",
       "      <th>Lionel Andr\\u00e9s Messi Cuccittini</th>\n",
       "      <td>26</td>\n",
       "      <td>19.457147</td>\n",
       "      <td>6.542853</td>\n",
       "    </tr>\n",
       "    <tr>\n",
       "      <th>8278</th>\n",
       "      <th>Gareth Frank Bale</th>\n",
       "      <td>15</td>\n",
       "      <td>8.890373</td>\n",
       "      <td>6.109627</td>\n",
       "    </tr>\n",
       "    <tr>\n",
       "      <th>3840</th>\n",
       "      <th>Iago Aspas Juncal</th>\n",
       "      <td>19</td>\n",
       "      <td>12.972127</td>\n",
       "      <td>6.027873</td>\n",
       "    </tr>\n",
       "    <tr>\n",
       "      <th>4131</th>\n",
       "      <th>\\u00c1ngel Luis Rodr\\u00edguez D\\u00edaz</th>\n",
       "      <td>13</td>\n",
       "      <td>7.392240</td>\n",
       "      <td>5.607760</td>\n",
       "    </tr>\n",
       "    <tr>\n",
       "      <th>3714</th>\n",
       "      <th>Cristhian Ricardo Stuani Curbelo</th>\n",
       "      <td>16</td>\n",
       "      <td>10.669898</td>\n",
       "      <td>5.330102</td>\n",
       "    </tr>\n",
       "    <tr>\n",
       "      <th>395636</th>\n",
       "      <th>Maximiliano G\\u00f3mez Gonz\\u00e1lez</th>\n",
       "      <td>18</td>\n",
       "      <td>12.839050</td>\n",
       "      <td>5.160950</td>\n",
       "    </tr>\n",
       "    <tr>\n",
       "      <th>70129</th>\n",
       "      <th>Rodrigo Moreno Machado</th>\n",
       "      <td>15</td>\n",
       "      <td>9.917692</td>\n",
       "      <td>5.082308</td>\n",
       "    </tr>\n",
       "    <tr>\n",
       "      <th>355599</th>\n",
       "      <th>Mikel Oyarzabal Ugarte</th>\n",
       "      <td>12</td>\n",
       "      <td>7.044020</td>\n",
       "      <td>4.955980</td>\n",
       "    </tr>\n",
       "    <tr>\n",
       "      <th>3802</th>\n",
       "      <th>Philippe Coutinho Correia</th>\n",
       "      <td>8</td>\n",
       "      <td>3.184582</td>\n",
       "      <td>4.815418</td>\n",
       "    </tr>\n",
       "  </tbody>\n",
       "</table>\n",
       "</div>"
      ],
      "text/plain": [
       "                                                    goal         xG      diff\n",
       "player_id player_name                                                        \n",
       "3682      Antoine Griezmann                           16   7.998916  8.001084\n",
       "3359      Lionel Andr\\u00e9s Messi Cuccittini         26  19.457147  6.542853\n",
       "8278      Gareth Frank Bale                           15   8.890373  6.109627\n",
       "3840      Iago Aspas Juncal                           19  12.972127  6.027873\n",
       "4131      \\u00c1ngel Luis Rodr\\u00edguez D\\u00edaz    13   7.392240  5.607760\n",
       "3714      Cristhian Ricardo Stuani Curbelo            16  10.669898  5.330102\n",
       "395636    Maximiliano G\\u00f3mez Gonz\\u00e1lez        18  12.839050  5.160950\n",
       "70129     Rodrigo Moreno Machado                      15   9.917692  5.082308\n",
       "355599    Mikel Oyarzabal Ugarte                      12   7.044020  4.955980\n",
       "3802      Philippe Coutinho Correia                    8   3.184582  4.815418"
      ]
     },
     "execution_count": 134,
     "metadata": {},
     "output_type": "execute_result"
    }
   ],
   "source": [
    "group[\"diff\"] = group[\"goal\"] - group[\"xG\"]\n",
    "group.sort_values(by=\"diff\", ascending=False).head(10)"
   ]
  },
  {
   "cell_type": "markdown",
   "metadata": {},
   "source": [
    "## Questão 4\n",
    "- Instancie um objeto ExpectedThreat [2] com parâmetros l=25 e w=16.\n",
    "- Faça o fit do modelo ExpectedThreat com o dataframe \"spadl\"."
   ]
  },
  {
   "cell_type": "code",
   "execution_count": 136,
   "metadata": {},
   "outputs": [
    {
     "name": "stdout",
     "output_type": "stream",
     "text": [
      "# iterations:  29\n"
     ]
    },
    {
     "data": {
      "text/plain": [
       "<socceraction.xthreat.ExpectedThreat at 0x1d45fa8e390>"
      ]
     },
     "execution_count": 136,
     "metadata": {},
     "output_type": "execute_result"
    }
   ],
   "source": [
    "import socceraction.xthreat as xthreat\n",
    "\n",
    "xTModel = xthreat.ExpectedThreat(l=25, w=16)\n",
    "xTModel.fit(spadl)"
   ]
  },
  {
   "cell_type": "markdown",
   "metadata": {},
   "source": [
    "## Questão 5\n",
    "- Crie um dataframe \"prog_actions\" à partir do dataframe \"spadl\", contendo apenas as ações de progressão e que são bem-sucedidas [3].\n",
    "- Use o método rate do objeto ExpectedThreat p/ calcular o valor de cada ação de progressão do dataframe \"prog_actions\", em uma coluna chamada \"action_value\".\n",
    "- Agrupe o dataframe \"prog_actions\" por \"player_name\" e reporte a soma dos \"action_value\".\n",
    "- Reporte os 10 jogadores com maior \"action_value\"."
   ]
  },
  {
   "cell_type": "code",
   "execution_count": 138,
   "metadata": {},
   "outputs": [],
   "source": [
    "prog_actions = xthreat.get_successful_move_actions(spadl)"
   ]
  },
  {
   "cell_type": "code",
   "execution_count": 140,
   "metadata": {},
   "outputs": [],
   "source": [
    "prog_actions[\"action_value\"] = xTModel.rate(prog_actions)"
   ]
  },
  {
   "cell_type": "code",
   "execution_count": 143,
   "metadata": {},
   "outputs": [
    {
     "data": {
      "text/plain": [
       "player_id  player_name                       \n",
       "33         Jasper Cillessen                     -0.007225\n",
       "99         Przemys\\u0142aw Tyto\\u0144            0.026717\n",
       "151        John Guidetti                         1.552049\n",
       "254        Roberto Jos\\u00e9 Rosales Altuve      7.150794\n",
       "786        R\\u00f3bert Maz\\u00e1\\u0148           0.205801\n",
       "                                                   ...   \n",
       "519496     Fabio Gonz\\u00e1lez Estupi\\u00f1an    0.045368\n",
       "520163     Diego Hern\\u00e1ndez Barriuso         0.035621\n",
       "545811     Hugo Duro Perales                    -0.019441\n",
       "551398     David Alba Fern\\u00e1ndez             0.023183\n",
       "568583     Juan Cruz Diaz Esp\\u00f3sito          0.008941\n",
       "Name: action_value, Length: 556, dtype: float64"
      ]
     },
     "execution_count": 143,
     "metadata": {},
     "output_type": "execute_result"
    }
   ],
   "source": [
    "group_with_sum = prog_actions.groupby([\"player_id\", \"player_name\"]).sum()\n",
    "group_with_sum[\"action_value\"]"
   ]
  },
  {
   "cell_type": "code",
   "execution_count": 148,
   "metadata": {},
   "outputs": [
    {
     "data": {
      "text/html": [
       "<div>\n",
       "<style scoped>\n",
       "    .dataframe tbody tr th:only-of-type {\n",
       "        vertical-align: middle;\n",
       "    }\n",
       "\n",
       "    .dataframe tbody tr th {\n",
       "        vertical-align: top;\n",
       "    }\n",
       "\n",
       "    .dataframe thead th {\n",
       "        text-align: right;\n",
       "    }\n",
       "</style>\n",
       "<table border=\"1\" class=\"dataframe\">\n",
       "  <thead>\n",
       "    <tr style=\"text-align: right;\">\n",
       "      <th></th>\n",
       "      <th></th>\n",
       "      <th>action_value</th>\n",
       "    </tr>\n",
       "    <tr>\n",
       "      <th>player_id</th>\n",
       "      <th>player_name</th>\n",
       "      <th></th>\n",
       "    </tr>\n",
       "  </thead>\n",
       "  <tbody>\n",
       "    <tr>\n",
       "      <th>3310</th>\n",
       "      <th>Marcelo Vieira da Silva J\\u00fanior</th>\n",
       "      <td>11.500223</td>\n",
       "    </tr>\n",
       "    <tr>\n",
       "      <th>3359</th>\n",
       "      <th>Lionel Andr\\u00e9s Messi Cuccittini</th>\n",
       "      <td>10.782755</td>\n",
       "    </tr>\n",
       "    <tr>\n",
       "      <th>278289</th>\n",
       "      <th>\\u00c1lvaro Odriozola Arzallus</th>\n",
       "      <td>8.911590</td>\n",
       "    </tr>\n",
       "    <tr>\n",
       "      <th>3325</th>\n",
       "      <th>Juan Francisco Moreno Fuertes</th>\n",
       "      <td>7.906469</td>\n",
       "    </tr>\n",
       "    <tr>\n",
       "      <th>3827</th>\n",
       "      <th>Hugo Mallo Novegil</th>\n",
       "      <td>7.895647</td>\n",
       "    </tr>\n",
       "    <tr>\n",
       "      <th>225089</th>\n",
       "      <th>Jos\\u00e9 Luis Morales Nogales</th>\n",
       "      <td>7.886556</td>\n",
       "    </tr>\n",
       "    <tr>\n",
       "      <th>254</th>\n",
       "      <th>Roberto Jos\\u00e9 Rosales Altuve</th>\n",
       "      <td>7.150794</td>\n",
       "    </tr>\n",
       "    <tr>\n",
       "      <th>3269</th>\n",
       "      <th>Jordi Alba Ramos</th>\n",
       "      <td>7.139224</td>\n",
       "    </tr>\n",
       "    <tr>\n",
       "      <th>3280</th>\n",
       "      <th>\\u00c9ver Maximiliano David Banega</th>\n",
       "      <td>7.128678</td>\n",
       "    </tr>\n",
       "    <tr>\n",
       "      <th>4892</th>\n",
       "      <th>Jos\\u00e9 Luis Gay\\u00e1 Pe\\u00f1a</th>\n",
       "      <td>7.084688</td>\n",
       "    </tr>\n",
       "  </tbody>\n",
       "</table>\n",
       "</div>"
      ],
      "text/plain": [
       "                                               action_value\n",
       "player_id player_name                                      \n",
       "3310      Marcelo Vieira da Silva J\\u00fanior     11.500223\n",
       "3359      Lionel Andr\\u00e9s Messi Cuccittini     10.782755\n",
       "278289    \\u00c1lvaro Odriozola Arzallus           8.911590\n",
       "3325      Juan Francisco Moreno Fuertes            7.906469\n",
       "3827      Hugo Mallo Novegil                       7.895647\n",
       "225089    Jos\\u00e9 Luis Morales Nogales           7.886556\n",
       "254       Roberto Jos\\u00e9 Rosales Altuve         7.150794\n",
       "3269      Jordi Alba Ramos                         7.139224\n",
       "3280      \\u00c9ver Maximiliano David Banega       7.128678\n",
       "4892      Jos\\u00e9 Luis Gay\\u00e1 Pe\\u00f1a       7.084688"
      ]
     },
     "execution_count": 148,
     "metadata": {},
     "output_type": "execute_result"
    }
   ],
   "source": [
    "group_with_sum.sort_values(by=\"action_value\", ascending=False).head(10)[[\"action_value\"]]"
   ]
  }
 ],
 "metadata": {
  "kernelspec": {
   "display_name": "Python 3 (ipykernel)",
   "language": "python",
   "name": "python3"
  },
  "language_info": {
   "codemirror_mode": {
    "name": "ipython",
    "version": 3
   },
   "file_extension": ".py",
   "mimetype": "text/x-python",
   "name": "python",
   "nbconvert_exporter": "python",
   "pygments_lexer": "ipython3",
   "version": "3.11.0"
  }
 },
 "nbformat": 4,
 "nbformat_minor": 4
}
